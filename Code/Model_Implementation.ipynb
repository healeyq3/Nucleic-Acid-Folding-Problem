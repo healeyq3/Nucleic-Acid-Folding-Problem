{
 "cells": [
  {
   "cell_type": "code",
   "execution_count": 24,
   "metadata": {},
   "outputs": [],
   "source": [
    "from gurobipy import GRB, Model, quicksum\n",
    "import numpy as np\n",
    "import itertools\n",
    "import plotly.express as px\n",
    "import pandas as pd"
   ]
  },
  {
   "cell_type": "code",
   "execution_count": 3,
   "metadata": {},
   "outputs": [],
   "source": [
    "class FoldingModel():\n",
    "\n",
    "    def __init__(self, nucleotide_sequence, name, min_dist):\n",
    "        self.ns = nucleotide_sequence.lower()\n",
    "        self.n = len(nucleotide_sequence)\n",
    "        self.nsa = np.array([char for char in nucleotide_sequence.lower()])\n",
    "        self.min_dist = min_dist\n",
    "\n",
    "        # Array used for indexing\n",
    "        self.possible_pairs = [(i, j) for i in range(0, self.n-1) for j in range(i+1, self.n)]\n",
    "        \n",
    "        # Build character arrays\n",
    "        self.a, self.u, self.c, self.g = self.build_char_arrays()\n",
    "\n",
    "        # Initialize Gurobi Model\n",
    "        name = \"NAFM_t_%s_l_%s\" % (name, self.n)\n",
    "        self.model = Model(name)\n",
    "        self.model.setParam('TimeLimit', 5*60)\n",
    "        self.model.setParam('LogToConsole', 0)\n",
    "\n",
    "        # Initialize Decision Variables\n",
    "        self.x = self.model.addVars(self.possible_pairs, name = \"x\", vtype = GRB.BINARY)\n",
    "    \n",
    "    def build_char_arrays(self):\n",
    "        a = np.where(self.nsa == \"a\", 1, 0)\n",
    "        u = np.where(self.nsa == \"u\", 1, 0)\n",
    "        c = np.where(self.nsa == \"c\", 1, 0)\n",
    "        g = np.where(self.nsa == \"g\", 1, 0)\n",
    "        return a, u, c, g\n",
    "\n",
    "    def build_model(self, num_crossings):\n",
    "        self.declare_objective()\n",
    "        self.construct_constraints(num_crossings)\n",
    "\n",
    "    def solve_model(self):\n",
    "        self.model.optimize()\n",
    "\n",
    "    def declare_objective(self):\n",
    "        self.model.setObjective(quicksum([self.x[i, j] for (i, j) in self.possible_pairs]),\n",
    "                                GRB.MAXIMIZE)\n",
    "    \n",
    "    def construct_constraints(self, num_crosses):                    \n",
    "        self.single_match_constraints()\n",
    "        self.complementary_constraints()\n",
    "        self.min_dist_constraint()\n",
    "        self.crossing_constraint(num_crosses)\n",
    "        \n",
    "    \n",
    "    def single_match_constraints(self):\n",
    "        self.model.addConstrs( (( quicksum([self.x[i, k] for i in range(0, k)]) \n",
    "                                + quicksum([self.x[k, j] for j in range(k + 1, self.n)]) )\n",
    "                                <= 1 for k in range(0, self.n)), name = \"sing_match_constraints\"\n",
    "                                )  \n",
    "    \n",
    "    def complementary_constraints(self):\n",
    "        non_complementary_pairs = [(i, j) for (i, j) in self.possible_pairs\n",
    "                                    if (self.a[i] + self.a[j] + self.c[i] + self.c[j] == 2)\n",
    "                                    or (self.a[i] + self.a[j] + self.g[i] + self.g[j] == 2)\n",
    "                                    or (self.u[i] + self.u[j] + self.c[i] + self.c[j] == 2)\n",
    "                                    or (self.u[i] + self.u[j] + self.g[i] + self.g[j] == 2)]\n",
    "        \n",
    "        self.model.addConstrs((self.x[i, j] == 0 for (i, j) in non_complementary_pairs),\n",
    "                                name = \"allowed_bases\")\n",
    "    \n",
    "    def min_dist_constraint(self):\n",
    "        too_close_pairs = [(i, j) for (i, j) in self.possible_pairs if min(j - i, self.n - j + i) < self.min_dist]\n",
    "        self.model.addConstrs((self.x[i, j] == 0 for (i, j) in too_close_pairs),\n",
    "                                name = \"min_dist_pairs\")\n",
    "    \n",
    "    def crossing_constraint(self, num_crosses):\n",
    "        # Create crossing decision variables\n",
    "        indices = [(i, j, k, l) for (i, j) in self.possible_pairs for (k, l) in self.possible_pairs\n",
    "                    if i < k < j < l]\n",
    "        C = self.model.addVars(indices, name = \"C\", vtype = GRB.BINARY)\n",
    "\n",
    "        # Main Constraint\n",
    "        self.model.addConstr( ( quicksum(C[i, j, k, l] for (i, j, k, l) in indices ) <= num_crosses ),\n",
    "                                name = \"crossing_constraint_main\" )\n",
    "\n",
    "        # Supporting Constraints\n",
    "        self.model.addConstrs( (self.x[i, j] + self.x[k, l] >= 2 * C[i, j, k, l] for (i, j, k, l) in indices),\n",
    "                                name = \"crossing_constraint_1\")\n",
    "        self.model.addConstrs( (self.x[i, j] + self.x[k, l] - 1 <= C[i, j, k, l] for (i, j, k, l) in indices),\n",
    "                                name = \"crossing_constraint_2\" )\n",
    "\n",
    "\n",
    "    def model_size(self):\n",
    "        return self.model.NumVars + self.model.NumConstrs\n"
   ]
  },
  {
   "cell_type": "code",
   "execution_count": 4,
   "metadata": {},
   "outputs": [],
   "source": [
    "class CrudeModel(FoldingModel):\n",
    "\n",
    "    def __init__(self, nuc_sequence, name):\n",
    "        super().__init__(nuc_sequence, name, 1)"
   ]
  },
  {
   "cell_type": "code",
   "execution_count": 5,
   "metadata": {},
   "outputs": [],
   "source": [
    "class SimpleEnhancedModel(FoldingModel):\n",
    "\n",
    "    def __init__(self, nuc_sequence, name):\n",
    "        # Notice that we change the minimum distance between two pairs with the super call\n",
    "        super().__init__(nuc_sequence, name, 3)\n",
    "\n",
    "    # Override the old objective\n",
    "    def declare_objective(self):\n",
    "        weight_dict = {\n",
    "            (\"a\", \"u\") : 2,\n",
    "            (\"u\", \"a\") : 2,\n",
    "            (\"g\", \"c\") : 3,\n",
    "            (\"c\", \"g\") : 3,\n",
    "            (\"a\", \"c\") : 0.05,\n",
    "            (\"c\", \"a\") : 0.05,\n",
    "            (\"g\", \"u\") : 0.1,\n",
    "            (\"u\", \"g\") : 0.1\n",
    "        }\n",
    "        f = {(i, j) : (weight_dict[self.ns[i], self.ns[j]] if (self.ns[i], self.ns[j]) in weight_dict.keys() else 0)\n",
    "                        for (i, j) in self.possible_pairs}\n",
    "        self.model.setObjective(quicksum([f[i, j] * self.x[i, j] for (i, j) in self.possible_pairs]),\n",
    "                                GRB.MAXIMIZE)\n",
    "    \n",
    "    # Override the old construct_constraints to no longer restrict base pairs\n",
    "    # as the objective function itself now handles this\n",
    "    def construct_constraints(self, num_crosses):\n",
    "        self.single_match_constraints()\n",
    "        self.min_dist_constraint()\n",
    "        self.crossing_constraint(num_crosses)"
   ]
  },
  {
   "cell_type": "code",
   "execution_count": 6,
   "metadata": {},
   "outputs": [],
   "source": [
    "class QuartetModel(FoldingModel):\n",
    "\n",
    "    def __init__(self, nuc_sequence, name):\n",
    "        super().__init__(nuc_sequence, name, 1)\n",
    "        # Extra Indices that will be used\n",
    "        self.ij_indices = [(i, j) for i in range(0, self.n - 3) for j in range(i+3, self.n)]\n",
    "        self.ij_indicesP = [(i, j) for i in range(1, self.n - 3) for j in range(i + 3, self.n - 1)]\n",
    "        self.nj_j_indices = [j for j in range(2, self.n - 1)]\n",
    "        self.nj_indices = [(self.n - 1, j) for j in self.nj_j_indices]\n",
    "        self.quartet_indicesP = self.ij_indicesP + self.nj_indices\n",
    "        self.quartet_indices = self.ij_indices + self.nj_indices\n",
    "        self.Q = self.model.addVars([(i, j) for i in range(self.n) for j in range(self.n)], name = \"Q\", vtype = GRB.BINARY)\n",
    "        self.P = self.model.addVars([(i, j) for i in range(self.n) for j in range(self.n)], name = \"P\", vtype = GRB.BINARY)\n",
    "        self.L = self.model.addVars([(i, j) for i in range(self.n) for j in range(self.n)], name = \"L\", vtype = GRB.BINARY)\n",
    "\n",
    "    def construct_constraints(self, num_crosses):\n",
    "        super().construct_constraints(num_crosses)\n",
    "        self.add_quartet_constraints()\n",
    "\n",
    "    def declare_objective(self):\n",
    "        nj_j_indices = self.nj_j_indices\n",
    "        quartet_indices = self.quartet_indices\n",
    "        Q = self.Q\n",
    "        P = self.P\n",
    "        L = self.L\n",
    "        n = self.n\n",
    "        ns = self.ns\n",
    "        weight_dict = {\n",
    "            ('a', 'u', 'a', 'u') : 9,\n",
    "            ('a', 'u', 'c', 'g') : 21,\n",
    "            ('a', 'u', 'g', 'c') : 24,\n",
    "            ('a', 'u', 'u', 'a') : 13,\n",
    "            ('c', 'g', 'a', 'u') : 22,\n",
    "            ('c', 'g', 'c', 'g') : 33,\n",
    "            ('c', 'g', 'g', 'c') : 34,\n",
    "            ('c', 'g', 'u', 'a') : 24,\n",
    "            ('g', 'c', 'a', 'u') : 21,\n",
    "            ('g', 'c', 'c', 'g') : 24,\n",
    "            ('g', 'c', 'g', 'c') : 33,\n",
    "            ('g', 'c', 'u', 'a') : 21,\n",
    "            ('u', 'a', 'a', 'u') : 12,\n",
    "            ('u', 'a', 'c', 'g') : 23,\n",
    "            ('u', 'a', 'g', 'c') : 21,\n",
    "            ('u', 'a', 'u', 'a') : 16,\n",
    "        }\n",
    "        w = {(i, j) : (weight_dict[ns[i], ns[j], ns[i + 1], ns[j - 1]]\n",
    "                        if (ns[i], ns[j], ns[i + 1], ns[j - 1]) in weight_dict.keys() else 1)\n",
    "                for (i, j) in self.ij_indices}\n",
    "        wn = {(n - 1, j) : (weight_dict[ns[n - 1], ns[j], ns[0], ns[j - 1]]\n",
    "                            if (ns[n - 1], ns[j], ns[0], ns[j - 1]) in weight_dict.keys() else 1)\n",
    "                for j in nj_j_indices}\n",
    "        w.update(wn)\n",
    "        self.model.setObjective(\n",
    "            (quicksum([self.x[i, j] for (i, j) in self.possible_pairs]) )\n",
    "            + (quicksum([w[i, j]*(Q[i, j] + P[i, j] + L[i, j]) for (i, j) in quartet_indices])),\n",
    "            GRB.MAXIMIZE\n",
    "        )\n",
    "\n",
    "    \n",
    "    def add_quartet_constraints(self):\n",
    "        n = self.n\n",
    "        ij_indices = self.ij_indices\n",
    "        ij_indicesP = self.ij_indicesP\n",
    "        nj_j_indices = self.nj_j_indices\n",
    "        nj_indices = self.nj_indices\n",
    "        Q = self.Q\n",
    "        P = self.P\n",
    "        L = self.L\n",
    "\n",
    "        # Basic Quartet Constraints\n",
    "        self.model.addConstrs( (2 * Q[i, j] <= self.x[i, j] + self.x[i + 1, j - 1] for (i, j) in ij_indices),\n",
    "                                name = \"Quartet_Constr.\" )\n",
    "        self.model.addConstrs( (2*Q[self.n - 1, j] <= self.x[j, self.n-1] + self.x[0, j - 1] for j in nj_j_indices),\n",
    "                                    name = \"Quartet_Constr.\" )\n",
    "        self.model.addConstrs( (Q[i, j] == 0 for i, j in list(set(itertools.product(range(self.n), range(self.n))) - set().union(ij_indices, nj_indices))), name = \"Quartet_Constr.\" )\n",
    "\n",
    "        # Position of Quartet\n",
    "        self.model.addConstrs((Q[i, j] >= P[i, j] for (i, j) in ij_indices), name = \"Quartet_Position\")\n",
    "        self.model.addConstrs((Q[i, j] + (1 - Q[i - 1, j + 1]) >= 2*P[i, j] for (i, j) in ij_indicesP),\n",
    "                                name = \"Quartet_Position\")\n",
    "        self.model.addConstrs((Q[i, n - 1] + (1 - Q[0, i - 1]) >= 2*P[i, n - 1] for i in range(1, n-3)),\n",
    "                                name = \"Quartet_Position\") # changed this one because Q wasn't defined for their range\n",
    "        self.model.addConstrs((Q[0, j] + (1 - Q[n - 1, j + 1]) >= 2 * P[0, j] for j in range(3, n - 2)),\n",
    "                                name = \"Quartet_Position\")\n",
    "        self.model.addConstrs((Q[n - 1, j] >= P[n - 1, j] for j in range(2, n - 1)),\n",
    "                                name = \"Quartet_Position\")\n",
    "        self.model.addConstrs((Q[n - 1, j] + (1 - Q[n - 2, j + 1]) >= 2 * P[n - 1, j] for j in range(2, n - 1)),\n",
    "                                name = \"Quartet_Position\") # changed to - 5 instead of - 3\n",
    "        \n",
    "        self.model.addConstrs((Q[i, j] >= L[i, j] for (i, j) in ij_indices),\n",
    "                                name = \"Quartet_Position\")\n",
    "        self.model.addConstrs((Q[i, j] + (1 - Q[i + 1, j - 1]) >= 2*L[i, j] for (i, j) in ij_indices),\n",
    "                                name = \"Quartet_Position\") # changed indices because Q asn't defined for their range\n",
    "        self.model.addConstrs((Q[n - 1, j] + (1 - Q[0, j - 1]) >= 2 * L[n - 1, j] for j in range(2, n - 1)),\n",
    "                                name = \"Quartet_Position\") # changed again\n",
    "        \n",
    "        self.model.addConstrs((P[i, j] + L[i, j] <= 1 for (i, j) in ij_indices),\n",
    "                                name = \"Quartet_Position\")\n",
    "        self.model.addConstrs((P[n - 1, j] + L[n - 1, j] <= 1 for j in nj_j_indices),\n",
    "                                name = \"Quartet_Position\")\n",
    "        self.model.addConstrs((P[i, j] + L[j, i] <= 1 for (i, j) in ij_indices),\n",
    "                                name = \"Quartet_Position\")\n",
    "        self.model.addConstrs((P[n - 1, j] + L[j, n-1] <= 1 for j in nj_j_indices),\n",
    "                                name = \"Quartet_Position\")\n",
    "\n",
    "        self.model.addConstrs((P[i, j] == 0 for (i, j) in list(set(itertools.product(range(n), range(n))) - set().union(ij_indices, nj_indices))))\n",
    "        self.model.addConstrs((P[i, j] == 0 for (i, j) in list(set(itertools.product(range(n), range(n))) - set().union(ij_indices, nj_indices))))\n",
    "        "
   ]
  },
  {
   "cell_type": "code",
   "execution_count": 7,
   "metadata": {},
   "outputs": [],
   "source": [
    "class FullModel(FoldingModel):\n",
    "    def __init__(self, nuc_sequence, name):\n",
    "        # Notice this also requires a min. dist of 3\n",
    "        super().__init__(nuc_sequence, name, 3)\n",
    "        self.ij_indices = [(i, j) for i in range(0, self.n - 3) for j in range(i+3, self.n)]\n",
    "        self.ij_indicesP = [(i, j) for i in range(1, self.n - 3) for j in range(i + 3, self.n - 1)]\n",
    "        self.nj_j_indices = [j for j in range(2, self.n - 1)]\n",
    "        self.nj_indices = [(self.n - 1, j) for j in self.nj_j_indices]\n",
    "        self.quartet_indices = self.ij_indices + self.nj_indices\n",
    "        self.Q = self.model.addVars([(i, j) for i in range(self.n) for j in range(self.n)], name = \"Q\", vtype = GRB.BINARY)\n",
    "        self.P = self.model.addVars([(i, j) for i in range(self.n) for j in range(self.n)], name = \"P\", vtype = GRB.BINARY)\n",
    "        self.L = self.model.addVars([(i, j) for i in range(self.n) for j in range(self.n)], name = \"L\", vtype = GRB.BINARY)\n",
    "\n",
    "    def construct_constraints(self, num_crosses):\n",
    "        self.single_match_constraints()\n",
    "        self.min_dist_constraint()\n",
    "        self.add_quartet_constraints()\n",
    "        self.crossing_constraint(num_crosses)\n",
    "\n",
    "    def declare_objective(self):\n",
    "        nj_j_indices = self.nj_j_indices\n",
    "        quartet_indices = self.quartet_indices\n",
    "        Q = self.Q\n",
    "        P = self.P\n",
    "        L = self.L\n",
    "        n = self.n\n",
    "        ns = self.ns\n",
    "        weight_dict = {\n",
    "            (\"a\", \"u\") : 2,\n",
    "            (\"u\", \"a\") : 2,\n",
    "            (\"g\", \"c\") : 3,\n",
    "            (\"c\", \"g\") : 3,\n",
    "            (\"a\", \"c\") : 0.05,\n",
    "            (\"c\", \"a\") : 0.05,\n",
    "            (\"g\", \"u\") : 0.1,\n",
    "            (\"u\", \"g\") : 0.1\n",
    "        }\n",
    "        f = {(i, j) : (weight_dict[self.ns[i], self.ns[j]] if (self.ns[i], self.ns[j]) in weight_dict.keys() else 0)\n",
    "                        for (i, j) in self.possible_pairs}\n",
    "        weight_dict = {\n",
    "            ('a', 'u', 'a', 'u') : 9,\n",
    "            ('a', 'u', 'c', 'g') : 21,\n",
    "            ('a', 'u', 'g', 'c') : 24,\n",
    "            ('a', 'u', 'u', 'a') : 13,\n",
    "            ('c', 'g', 'a', 'u') : 22,\n",
    "            ('c', 'g', 'c', 'g') : 33,\n",
    "            ('c', 'g', 'g', 'c') : 34,\n",
    "            ('c', 'g', 'u', 'a') : 24,\n",
    "            ('g', 'c', 'a', 'u') : 21,\n",
    "            ('g', 'c', 'c', 'g') : 24,\n",
    "            ('g', 'c', 'g', 'c') : 33,\n",
    "            ('g', 'c', 'u', 'a') : 21,\n",
    "            ('u', 'a', 'a', 'u') : 12,\n",
    "            ('u', 'a', 'c', 'g') : 23,\n",
    "            ('u', 'a', 'g', 'c') : 21,\n",
    "            ('u', 'a', 'u', 'a') : 16,\n",
    "        }\n",
    "        w = {(i, j) : (weight_dict[ns[i], ns[j], ns[i + 1], ns[j - 1]]\n",
    "                        if (ns[i], ns[j], ns[i + 1], ns[j - 1]) in weight_dict.keys() else 1)\n",
    "                for (i, j) in self.ij_indices}\n",
    "        wn = {(n - 1, j) : (weight_dict[ns[n - 1], ns[j], ns[0], ns[j - 1]]\n",
    "                            if (ns[n - 1], ns[j], ns[0], ns[j - 1]) in weight_dict.keys() else 1)\n",
    "                for j in nj_j_indices}\n",
    "        w.update(wn)\n",
    "        self.model.setObjective(\n",
    "            (quicksum([f[i, j] * self.x[i, j] for (i, j) in self.possible_pairs]) )\n",
    "            + (quicksum([w[i, j]*(Q[i, j] + P[i, j] + L[i, j]) for (i, j) in quartet_indices])),\n",
    "            GRB.MAXIMIZE\n",
    "        )\n",
    "\n",
    "    \n",
    "    def add_quartet_constraints(self):\n",
    "        n = self.n\n",
    "        ij_indices = self.ij_indices\n",
    "        ij_indicesP = self.ij_indicesP\n",
    "        nj_j_indices = self.nj_j_indices\n",
    "        nj_indices = self.nj_indices\n",
    "        Q = self.Q\n",
    "        P = self.P\n",
    "        L = self.L\n",
    "\n",
    "        # Basic Quartet Constraints\n",
    "        self.model.addConstrs( (2 * Q[i, j] <= self.x[i, j] + self.x[i + 1, j - 1] for (i, j) in ij_indices),\n",
    "                                name = \"Quartet_Constr.\" )\n",
    "        self.model.addConstrs( (2*Q[self.n - 1, j] <= self.x[j, self.n-1] + self.x[0, j - 1] for j in nj_j_indices),\n",
    "                                    name = \"Quartet_Constr.\" )\n",
    "        self.model.addConstrs( (Q[i, j] == 0 for i, j in list(set(itertools.product(range(self.n), range(self.n))) - set().union(ij_indices, nj_indices))), name = \"Quartet_Constr.\" )\n",
    "\n",
    "        # Position of Quartet\n",
    "        self.model.addConstrs((Q[i, j] >= P[i, j] for (i, j) in ij_indices), name = \"Quartet_Position\")\n",
    "        self.model.addConstrs((Q[i, j] + (1 - Q[i - 1, j + 1]) >= 2*P[i, j] for (i, j) in ij_indicesP),\n",
    "                                name = \"Quartet_Position\")\n",
    "        self.model.addConstrs((Q[i, n - 1] + (1 - Q[0, i - 1]) >= 2*P[i, n - 1] for i in range(1, n-3)),\n",
    "                                name = \"Quartet_Position\") # changed this one because Q wasn't defined for their range\n",
    "        self.model.addConstrs((Q[0, j] + (1 - Q[n - 1, j + 1]) >= 2 * P[0, j] for j in range(3, n - 2)),\n",
    "                                name = \"Quartet_Position\")\n",
    "        self.model.addConstrs((Q[n - 1, j] >= P[n - 1, j] for j in range(2, n - 1)),\n",
    "                                name = \"Quartet_Position\")\n",
    "        self.model.addConstrs((Q[n - 1, j] + (1 - Q[n - 2, j + 1]) >= 2 * P[n - 1, j] for j in range(2, n - 1)),\n",
    "                                name = \"Quartet_Position\") # changed to - 5 instead of - 3\n",
    "        \n",
    "        self.model.addConstrs((Q[i, j] >= L[i, j] for (i, j) in ij_indices),\n",
    "                                name = \"Quartet_Position\")\n",
    "        self.model.addConstrs((Q[i, j] + (1 - Q[i + 1, j - 1]) >= 2*L[i, j] for (i, j) in ij_indices),\n",
    "                                name = \"Quartet_Position\") # changed indices because Q asn't defined for their range\n",
    "        self.model.addConstrs((Q[n - 1, j] + (1 - Q[0, j - 1]) >= 2 * L[n - 1, j] for j in range(2, n - 1)),\n",
    "                                name = \"Quartet_Position\") # changed again\n",
    "        \n",
    "        self.model.addConstrs((P[i, j] + L[i, j] <= 1 for (i, j) in ij_indices),\n",
    "                                name = \"Quartet_Position\")\n",
    "        self.model.addConstrs((P[n - 1, j] + L[n - 1, j] <= 1 for j in nj_j_indices),\n",
    "                                name = \"Quartet_Position\")\n",
    "        self.model.addConstrs((P[i, j] + L[j, i] <= 1 for (i, j) in ij_indices),\n",
    "                                name = \"Quartet_Position\")\n",
    "        self.model.addConstrs((P[n - 1, j] + L[j, n-1] <= 1 for j in nj_j_indices),\n",
    "                                name = \"Quartet_Position\")\n",
    "\n",
    "        self.model.addConstrs((P[i, j] == 0 for (i, j) in list(set(itertools.product(range(n), range(n))) - set().union(ij_indices, nj_indices))))\n",
    "        self.model.addConstrs((P[i, j] == 0 for (i, j) in list(set(itertools.product(range(n), range(n))) - set().union(ij_indices, nj_indices))))"
   ]
  },
  {
   "cell_type": "code",
   "execution_count": 14,
   "metadata": {},
   "outputs": [],
   "source": [
    "# Lengths 20, 30, 50, 100, 200 respectively\n",
    "test_strings = [\n",
    "'CGUCUUCACUACAGCAUCGG',\n",
    "'GACCUUACUGGGUACGAUUUACUGGAGGAC',\n",
    "'GGCCAGACUGGUGGUGUGACUCCAGGCUAACCGGAUACGCGUGCCUCGGG',\n",
    "'UAUGCAGGUCGCGUUUUUCCACUGCCUAGAUAGCUCUGAGGGUACACUUAGUUCAGCACAUAAGAGGGAUCAUACUAGGUCCGCGUCUUACCUCCUACGA'\n",
    "]"
   ]
  },
  {
   "cell_type": "code",
   "execution_count": 15,
   "metadata": {},
   "outputs": [
    {
     "name": "stdout",
     "output_type": "stream",
     "text": [
      "BEGIN OF ITERATION LENGTH:  20\n",
      "Set parameter TimeLimit to value 300\n",
      "Set parameter TimeLimit to value 300\n",
      "Set parameter TimeLimit to value 300\n",
      "Set parameter TimeLimit to value 300\n",
      "Set parameter TimeLimit to value 300\n",
      "Set parameter TimeLimit to value 300\n",
      "Set parameter TimeLimit to value 300\n",
      "Building c_model\n",
      "Finished building c_model\n",
      "Building s_model\n",
      "Finished building s_model\n",
      "Building q_model\n",
      "Finished building q_model\n",
      "Building cc_model\n",
      "Finished building cc_model\n",
      "Building sc_model\n",
      "Finished building sc_model\n",
      "Building qc_model\n",
      "Finished building qc_model\n",
      "Building full_model\n",
      "Finished building full_model\n",
      "Solving c_model\n",
      "Finished solving c_model\n",
      "Solving s_model\n",
      "Finished solving s_model\n",
      "Solving q_model\n",
      "Finished solving q_model\n",
      "Solving cc_model\n",
      "Finished solving cc_model\n",
      "Solving sc_model\n",
      "Finished solving sc_model\n",
      "Solving qc_model\n",
      "Finished solving qc_model\n",
      "Solving full_model\n",
      "Finished solving full_model\n",
      "End OF ITERATION LENGTH:  20\n",
      "BEGIN OF ITERATION LENGTH:  30\n",
      "Set parameter TimeLimit to value 300\n",
      "Set parameter TimeLimit to value 300\n",
      "Set parameter TimeLimit to value 300\n",
      "Set parameter TimeLimit to value 300\n",
      "Set parameter TimeLimit to value 300\n",
      "Set parameter TimeLimit to value 300\n",
      "Set parameter TimeLimit to value 300\n",
      "Building c_model\n",
      "Finished building c_model\n",
      "Building s_model\n",
      "Finished building s_model\n",
      "Building q_model\n",
      "Finished building q_model\n",
      "Building cc_model\n",
      "Finished building cc_model\n",
      "Building sc_model\n",
      "Finished building sc_model\n",
      "Building qc_model\n",
      "Finished building qc_model\n",
      "Building full_model\n",
      "Finished building full_model\n",
      "Solving c_model\n",
      "Finished solving c_model\n",
      "Solving s_model\n",
      "Finished solving s_model\n",
      "Solving q_model\n",
      "Finished solving q_model\n",
      "Solving cc_model\n",
      "Finished solving cc_model\n",
      "Solving sc_model\n",
      "Finished solving sc_model\n",
      "Solving qc_model\n",
      "Finished solving qc_model\n",
      "Solving full_model\n",
      "Finished solving full_model\n",
      "End OF ITERATION LENGTH:  30\n",
      "BEGIN OF ITERATION LENGTH:  50\n",
      "Set parameter TimeLimit to value 300\n",
      "Set parameter TimeLimit to value 300\n",
      "Set parameter TimeLimit to value 300\n",
      "Set parameter TimeLimit to value 300\n",
      "Set parameter TimeLimit to value 300\n",
      "Set parameter TimeLimit to value 300\n",
      "Set parameter TimeLimit to value 300\n",
      "Building c_model\n",
      "Finished building c_model\n",
      "Building s_model\n",
      "Finished building s_model\n",
      "Building q_model\n",
      "Finished building q_model\n",
      "Building cc_model\n",
      "Finished building cc_model\n",
      "Building sc_model\n",
      "Finished building sc_model\n",
      "Building qc_model\n",
      "Finished building qc_model\n",
      "Building full_model\n",
      "Finished building full_model\n",
      "Solving c_model\n",
      "Finished solving c_model\n",
      "Solving s_model\n",
      "Finished solving s_model\n",
      "Solving q_model\n",
      "Finished solving q_model\n",
      "Solving cc_model\n",
      "Finished solving cc_model\n",
      "Solving sc_model\n",
      "Finished solving sc_model\n",
      "Solving qc_model\n",
      "Finished solving qc_model\n",
      "Solving full_model\n",
      "Finished solving full_model\n",
      "End OF ITERATION LENGTH:  50\n",
      "BEGIN OF ITERATION LENGTH:  100\n",
      "Set parameter TimeLimit to value 300\n",
      "Set parameter TimeLimit to value 300\n",
      "Set parameter TimeLimit to value 300\n",
      "Set parameter TimeLimit to value 300\n",
      "Set parameter TimeLimit to value 300\n",
      "Set parameter TimeLimit to value 300\n",
      "Set parameter TimeLimit to value 300\n",
      "Building c_model\n",
      "Finished building c_model\n",
      "Building s_model\n",
      "Finished building s_model\n",
      "Building q_model\n",
      "Finished building q_model\n",
      "Building cc_model\n",
      "Finished building cc_model\n",
      "Building sc_model\n",
      "Finished building sc_model\n",
      "Building qc_model\n",
      "Finished building qc_model\n",
      "Building full_model\n",
      "Finished building full_model\n",
      "Solving c_model\n",
      "Finished solving c_model\n",
      "Solving s_model\n",
      "Finished solving s_model\n",
      "Solving q_model\n",
      "Finished solving q_model\n",
      "Solving cc_model\n",
      "Finished solving cc_model\n",
      "Solving sc_model\n",
      "Finished solving sc_model\n",
      "Solving qc_model\n",
      "Finished solving qc_model\n",
      "Solving full_model\n",
      "Finished solving full_model\n",
      "End OF ITERATION LENGTH:  100\n"
     ]
    }
   ],
   "source": [
    "'''\n",
    "Models:\n",
    "- Crude\n",
    "- Simple Enhanced\n",
    "- Quartet\n",
    "- Crude + 10 crossings allowed\n",
    "- Simple + 10 crossings allowed\n",
    "- Quartet + 10 crossings allowed\n",
    "- Full: Quartet + Simple Enhancements + 10 crossings\n",
    "'''\n",
    "data = []\n",
    "for t in test_strings:\n",
    "    print(\"BEGIN OF ITERATION LENGTH: \", len(t))\n",
    "    c_model = CrudeModel(t, 'crude')\n",
    "    s_model = SimpleEnhancedModel(t, 'simple')\n",
    "    q_model = QuartetModel(t, 'quartet')\n",
    "    cc_model = CrudeModel(t, 'crude_cross')\n",
    "    sc_model = SimpleEnhancedModel(t, 'simple_cross')\n",
    "    qc_model = QuartetModel(t, 'quartet_cross')\n",
    "    full_model = FullModel(t, 'full')\n",
    "\n",
    "    # We specify crossing using a passed in parameter\n",
    "    print(\"Building c_model\")\n",
    "    c_model.build_model(0)\n",
    "    print(\"Finished building c_model\")\n",
    "    print(\"Building s_model\")\n",
    "    s_model.build_model(0)\n",
    "    print(\"Finished building s_model\")\n",
    "    print(\"Building q_model\")\n",
    "    q_model.build_model(0)\n",
    "    print(\"Finished building q_model\")\n",
    "    print(\"Building cc_model\")\n",
    "    # Will now allows 10 crossings in the following models\n",
    "    cc_model.build_model(10)\n",
    "    print(\"Finished building cc_model\")\n",
    "    print(\"Building sc_model\")\n",
    "    sc_model.build_model(10)\n",
    "    print(\"Finished building sc_model\")\n",
    "    print(\"Building qc_model\")\n",
    "    qc_model.build_model(10)\n",
    "    print(\"Finished building qc_model\")\n",
    "    print(\"Building full_model\")\n",
    "    full_model.build_model(10)\n",
    "    print(\"Finished building full_model\")\n",
    "\n",
    "    print(\"Solving c_model\")\n",
    "    c_model.solve_model()\n",
    "    name = \"c_model_%s.sol\" % (len(t))\n",
    "    c_model.model.write(name)\n",
    "    print(\"Finished solving c_model\")\n",
    "    print(\"Solving s_model\")\n",
    "    s_model.solve_model()\n",
    "    name = \"s_model_%s.sol\" % (len(t))\n",
    "    s_model.model.write(name)\n",
    "    print(\"Finished solving s_model\")\n",
    "    print(\"Solving q_model\")\n",
    "    q_model.solve_model()\n",
    "    name = \"q_model_%s.sol\" % (len(t))\n",
    "    q_model.model.write(name)\n",
    "    print(\"Finished solving q_model\")\n",
    "    print(\"Solving cc_model\")\n",
    "    cc_model.solve_model()\n",
    "    name = \"cc_model_%s.sol\" % (len(t))\n",
    "    cc_model.model.write(name)\n",
    "    print(\"Finished solving cc_model\")\n",
    "    print(\"Solving sc_model\")\n",
    "    sc_model.solve_model()\n",
    "    name = \"sc_model_%s.sol\" % (len(t))\n",
    "    sc_model.model.write(name)\n",
    "    print(\"Finished solving sc_model\")\n",
    "    print(\"Solving qc_model\")\n",
    "    qc_model.solve_model()\n",
    "    name = \"qc_model_%s.sol\" % (len(t))\n",
    "    qc_model.model.write(name)\n",
    "    print(\"Finished solving qc_model\")\n",
    "    print(\"Solving full_model\")\n",
    "    full_model.solve_model()\n",
    "    name = \"full_model_%s.sol\" % (len(t))\n",
    "    full_model.model.write(name)\n",
    "    print(\"Finished solving full_model\")\n",
    "\n",
    "    loop_data = {\n",
    "        'Model_Type' : ['Crude', 'Simple.E', 'Quartet', \"Crude_Cross\", 'Simple.E_Cross', 'Quartet_Cross', 'Full'],\n",
    "        'ObjVal' : [c_model.model.ObjVal, s_model.model.ObjVal, q_model.model.ObjVal, cc_model.model.ObjVal,\n",
    "                    sc_model.model.ObjVal, qc_model.model.ObjVal, full_model.model.ObjVal],\n",
    "        'ObjBound' : [c_model.model.ObjBound, s_model.model.ObjBound, q_model.model.ObjBound, cc_model.model.ObjBound,\n",
    "                    sc_model.model.ObjBound, qc_model.model.ObjBound, full_model.model.ObjBound],\n",
    "        'MIPGap' : [c_model.model.MIPGap, s_model.model.MIPGap, q_model.model.MIPGap, cc_model.model.MIPGap,\n",
    "                    sc_model.model.MIPGap, qc_model.model.MIPGap, full_model.model.MIPGap],\n",
    "        'InputSize' : [len(t), len(t), len(t), len(t), len(t), len(t), len(t)],\n",
    "        'ModelSize' : [c_model.model_size(), s_model.model_size(), q_model.model_size(), cc_model.model_size(),\n",
    "                    sc_model.model_size(), qc_model.model_size(), full_model.model_size()],\n",
    "        'RunTime' : [c_model.model.Runtime, s_model.model.Runtime, q_model.model.Runtime, cc_model.model.Runtime,\n",
    "                    sc_model.model.Runtime, qc_model.model.Runtime, full_model.model.Runtime],\n",
    "        'Work' : [c_model.model.Work, s_model.model.Work, q_model.model.Work, cc_model.model.Work,\n",
    "                    sc_model.model.Work, qc_model.model.Work, full_model.model.Work]\n",
    "    }\n",
    "    data.append(loop_data) \n",
    "    print(\"End OF ITERATION LENGTH: \", len(t))"
   ]
  },
  {
   "cell_type": "code",
   "execution_count": 16,
   "metadata": {},
   "outputs": [
    {
     "data": {
      "text/plain": [
       "[{'Model_Type': ['Crude',\n",
       "   'Simple.E',\n",
       "   'Quartet',\n",
       "   'Crude_Cross',\n",
       "   'Simple.E_Cross',\n",
       "   'Quartet_Cross',\n",
       "   'Full'],\n",
       "  'ObjVal': [8.0, 13.0, 123.0, 8.0, 20.0, 124.0, 112.05],\n",
       "  'ObjBound': [8.0, 13.0, 123.0, 8.0, 20.0, 124.0, 112.05],\n",
       "  'MIPGap': [0.0, 0.0, 0.0, 0.0, 0.0, 0.0, 0.0],\n",
       "  'InputSize': [20, 20, 20, 20, 20, 20, 20],\n",
       "  'ModelSize': [14888, 14786, 17949, 14888, 14786, 17949, 17847],\n",
       "  'RunTime': [0.009272098541259766,\n",
       "   0.030665874481201172,\n",
       "   0.017882108688354492,\n",
       "   0.018416881561279297,\n",
       "   0.12196898460388184,\n",
       "   0.02932596206665039,\n",
       "   3.8937809467315674],\n",
       "  'Work': [0.009540555658018627,\n",
       "   0.025634281460603786,\n",
       "   0.011057749625589038,\n",
       "   0.015988614793262176,\n",
       "   0.133317371162885,\n",
       "   0.02340557313732418,\n",
       "   2.6272893681440936]},\n",
       " {'Model_Type': ['Crude',\n",
       "   'Simple.E',\n",
       "   'Quartet',\n",
       "   'Crude_Cross',\n",
       "   'Simple.E_Cross',\n",
       "   'Quartet_Cross',\n",
       "   'Full'],\n",
       "  'ObjVal': [12.0, 23.0, 236.0, 13.0, 32.0, 261.0, 280.1],\n",
       "  'ObjBound': [12.0, 23.0, 236.0, 13.0, 32.0, 261.0, 280.1],\n",
       "  'MIPGap': [0.0, 0.0, 0.0, 0.0, 0.0, 0.0, 0.0],\n",
       "  'InputSize': [30, 30, 30, 30, 30, 30, 30],\n",
       "  'ModelSize': [83006, 82741, 89997, 83006, 82741, 89997, 89732],\n",
       "  'RunTime': [0.08809494972229004,\n",
       "   0.5296518802642822,\n",
       "   0.10090303421020508,\n",
       "   0.17360806465148926,\n",
       "   23.674621105194092,\n",
       "   0.4065730571746826,\n",
       "   8.61909794807434],\n",
       "  'Work': [0.07848071621219953,\n",
       "   0.4979138805323791,\n",
       "   0.08397962869453883,\n",
       "   0.13856922257697157,\n",
       "   33.699166875054054,\n",
       "   0.37675979781241276,\n",
       "   7.586907291437365]},\n",
       " {'Model_Type': ['Crude',\n",
       "   'Simple.E',\n",
       "   'Quartet',\n",
       "   'Crude_Cross',\n",
       "   'Simple.E_Cross',\n",
       "   'Quartet_Cross',\n",
       "   'Full'],\n",
       "  'ObjVal': [21.0, 45.15, 596.0, 22.0, 53.1, 664.0, 545.1],\n",
       "  'ObjBound': [21.0, 45.15, 596.0, 22.0, 58.09999999999998, 664.0, 648.6],\n",
       "  'MIPGap': [0.0,\n",
       "   0.0,\n",
       "   0.0,\n",
       "   0.0,\n",
       "   0.09416195856873782,\n",
       "   0.0,\n",
       "   0.18987341772151897],\n",
       "  'InputSize': [50, 50, 50, 50, 50, 50, 50],\n",
       "  'ModelSize': [693063, 692276, 712714, 693063, 692276, 712714, 711927],\n",
       "  'RunTime': [2.892716884613037,\n",
       "   18.22997808456421,\n",
       "   2.2047669887542725,\n",
       "   3.037930965423584,\n",
       "   300.0895709991455,\n",
       "   9.898968935012817,\n",
       "   300.53133893013],\n",
       "  'Work': [3.2329307059418215,\n",
       "   25.407160943458724,\n",
       "   2.398372014756973,\n",
       "   3.203672122080865,\n",
       "   355.03625701403257,\n",
       "   9.005543380751165,\n",
       "   228.2858889992837]},\n",
       " {'Model_Type': ['Crude',\n",
       "   'Simple.E',\n",
       "   'Quartet',\n",
       "   'Crude_Cross',\n",
       "   'Simple.E_Cross',\n",
       "   'Quartet_Cross',\n",
       "   'Full'],\n",
       "  'ObjVal': [44.0, 76.05, 1039.0, 46.0, 61.300000000000004, 1081.0, 207.3],\n",
       "  'ObjBound': [45.99999999999996,\n",
       "   114.99999999998853,\n",
       "   1039.0,\n",
       "   46.0,\n",
       "   115.0,\n",
       "   1468.0,\n",
       "   34744.85],\n",
       "  'MIPGap': [0.045454545454544484,\n",
       "   0.5121630506244383,\n",
       "   0.0,\n",
       "   0.0,\n",
       "   0.8760195758564436,\n",
       "   0.3580018501387604,\n",
       "   166.60660877954652],\n",
       "  'InputSize': [100, 100, 100, 100, 100, 100, 100],\n",
       "  'ModelSize': [11772434,\n",
       "   11768926,\n",
       "   11851735,\n",
       "   11772434,\n",
       "   11768926,\n",
       "   11851735,\n",
       "   11848227],\n",
       "  'RunTime': [300.59983086586,\n",
       "   350.72260093688965,\n",
       "   164.32081508636475,\n",
       "   178.0268440246582,\n",
       "   301.7206680774689,\n",
       "   302.6559019088745,\n",
       "   304.8565089702606],\n",
       "  'Work': [484.1847577157469,\n",
       "   288.9666404765996,\n",
       "   125.21939058752278,\n",
       "   236.19217817438394,\n",
       "   174.46531271245877,\n",
       "   290.55429637049633,\n",
       "   133.00295920133306]}]"
      ]
     },
     "execution_count": 16,
     "metadata": {},
     "output_type": "execute_result"
    }
   ],
   "source": [
    "data"
   ]
  },
  {
   "cell_type": "code",
   "execution_count": 18,
   "metadata": {},
   "outputs": [
    {
     "data": {
      "text/html": [
       "<div>\n",
       "<style scoped>\n",
       "    .dataframe tbody tr th:only-of-type {\n",
       "        vertical-align: middle;\n",
       "    }\n",
       "\n",
       "    .dataframe tbody tr th {\n",
       "        vertical-align: top;\n",
       "    }\n",
       "\n",
       "    .dataframe thead th {\n",
       "        text-align: right;\n",
       "    }\n",
       "</style>\n",
       "<table border=\"1\" class=\"dataframe\">\n",
       "  <thead>\n",
       "    <tr style=\"text-align: right;\">\n",
       "      <th></th>\n",
       "      <th>Model_Type</th>\n",
       "      <th>ObjVal</th>\n",
       "      <th>ObjBound</th>\n",
       "      <th>MIPGap</th>\n",
       "      <th>InputSize</th>\n",
       "      <th>ModelSize</th>\n",
       "      <th>RunTime</th>\n",
       "      <th>Work</th>\n",
       "    </tr>\n",
       "  </thead>\n",
       "  <tbody>\n",
       "    <tr>\n",
       "      <th>0</th>\n",
       "      <td>Crude</td>\n",
       "      <td>8.00</td>\n",
       "      <td>8.00</td>\n",
       "      <td>0.0</td>\n",
       "      <td>20</td>\n",
       "      <td>14888</td>\n",
       "      <td>0.009272</td>\n",
       "      <td>0.009541</td>\n",
       "    </tr>\n",
       "    <tr>\n",
       "      <th>1</th>\n",
       "      <td>Simple.E</td>\n",
       "      <td>13.00</td>\n",
       "      <td>13.00</td>\n",
       "      <td>0.0</td>\n",
       "      <td>20</td>\n",
       "      <td>14786</td>\n",
       "      <td>0.030666</td>\n",
       "      <td>0.025634</td>\n",
       "    </tr>\n",
       "    <tr>\n",
       "      <th>2</th>\n",
       "      <td>Quartet</td>\n",
       "      <td>123.00</td>\n",
       "      <td>123.00</td>\n",
       "      <td>0.0</td>\n",
       "      <td>20</td>\n",
       "      <td>17949</td>\n",
       "      <td>0.017882</td>\n",
       "      <td>0.011058</td>\n",
       "    </tr>\n",
       "    <tr>\n",
       "      <th>3</th>\n",
       "      <td>Crude_Cross</td>\n",
       "      <td>8.00</td>\n",
       "      <td>8.00</td>\n",
       "      <td>0.0</td>\n",
       "      <td>20</td>\n",
       "      <td>14888</td>\n",
       "      <td>0.018417</td>\n",
       "      <td>0.015989</td>\n",
       "    </tr>\n",
       "    <tr>\n",
       "      <th>4</th>\n",
       "      <td>Simple.E_Cross</td>\n",
       "      <td>20.00</td>\n",
       "      <td>20.00</td>\n",
       "      <td>0.0</td>\n",
       "      <td>20</td>\n",
       "      <td>14786</td>\n",
       "      <td>0.121969</td>\n",
       "      <td>0.133317</td>\n",
       "    </tr>\n",
       "    <tr>\n",
       "      <th>5</th>\n",
       "      <td>Quartet_Cross</td>\n",
       "      <td>124.00</td>\n",
       "      <td>124.00</td>\n",
       "      <td>0.0</td>\n",
       "      <td>20</td>\n",
       "      <td>17949</td>\n",
       "      <td>0.029326</td>\n",
       "      <td>0.023406</td>\n",
       "    </tr>\n",
       "    <tr>\n",
       "      <th>6</th>\n",
       "      <td>Full</td>\n",
       "      <td>112.05</td>\n",
       "      <td>112.05</td>\n",
       "      <td>0.0</td>\n",
       "      <td>20</td>\n",
       "      <td>17847</td>\n",
       "      <td>3.893781</td>\n",
       "      <td>2.627289</td>\n",
       "    </tr>\n",
       "  </tbody>\n",
       "</table>\n",
       "</div>"
      ],
      "text/plain": [
       "       Model_Type  ObjVal  ObjBound  MIPGap  InputSize  ModelSize   RunTime  \\\n",
       "0           Crude    8.00      8.00     0.0         20      14888  0.009272   \n",
       "1        Simple.E   13.00     13.00     0.0         20      14786  0.030666   \n",
       "2         Quartet  123.00    123.00     0.0         20      17949  0.017882   \n",
       "3     Crude_Cross    8.00      8.00     0.0         20      14888  0.018417   \n",
       "4  Simple.E_Cross   20.00     20.00     0.0         20      14786  0.121969   \n",
       "5   Quartet_Cross  124.00    124.00     0.0         20      17949  0.029326   \n",
       "6            Full  112.05    112.05     0.0         20      17847  3.893781   \n",
       "\n",
       "       Work  \n",
       "0  0.009541  \n",
       "1  0.025634  \n",
       "2  0.011058  \n",
       "3  0.015989  \n",
       "4  0.133317  \n",
       "5  0.023406  \n",
       "6  2.627289  "
      ]
     },
     "execution_count": 18,
     "metadata": {},
     "output_type": "execute_result"
    }
   ],
   "source": [
    "result = pd.DataFrame(data = data[0])"
   ]
  },
  {
   "cell_type": "code",
   "execution_count": 23,
   "metadata": {},
   "outputs": [
    {
     "data": {
      "text/html": [
       "<div>\n",
       "<style scoped>\n",
       "    .dataframe tbody tr th:only-of-type {\n",
       "        vertical-align: middle;\n",
       "    }\n",
       "\n",
       "    .dataframe tbody tr th {\n",
       "        vertical-align: top;\n",
       "    }\n",
       "\n",
       "    .dataframe thead th {\n",
       "        text-align: right;\n",
       "    }\n",
       "</style>\n",
       "<table border=\"1\" class=\"dataframe\">\n",
       "  <thead>\n",
       "    <tr style=\"text-align: right;\">\n",
       "      <th></th>\n",
       "      <th>Model_Type</th>\n",
       "      <th>ObjVal</th>\n",
       "      <th>ObjBound</th>\n",
       "      <th>MIPGap</th>\n",
       "      <th>InputSize</th>\n",
       "      <th>ModelSize</th>\n",
       "      <th>RunTime</th>\n",
       "      <th>Work</th>\n",
       "    </tr>\n",
       "  </thead>\n",
       "  <tbody>\n",
       "    <tr>\n",
       "      <th>0</th>\n",
       "      <td>Crude</td>\n",
       "      <td>8.00</td>\n",
       "      <td>8.00</td>\n",
       "      <td>0.000000</td>\n",
       "      <td>20</td>\n",
       "      <td>14888</td>\n",
       "      <td>0.009272</td>\n",
       "      <td>0.009541</td>\n",
       "    </tr>\n",
       "    <tr>\n",
       "      <th>1</th>\n",
       "      <td>Simple.E</td>\n",
       "      <td>13.00</td>\n",
       "      <td>13.00</td>\n",
       "      <td>0.000000</td>\n",
       "      <td>20</td>\n",
       "      <td>14786</td>\n",
       "      <td>0.030666</td>\n",
       "      <td>0.025634</td>\n",
       "    </tr>\n",
       "    <tr>\n",
       "      <th>2</th>\n",
       "      <td>Quartet</td>\n",
       "      <td>123.00</td>\n",
       "      <td>123.00</td>\n",
       "      <td>0.000000</td>\n",
       "      <td>20</td>\n",
       "      <td>17949</td>\n",
       "      <td>0.017882</td>\n",
       "      <td>0.011058</td>\n",
       "    </tr>\n",
       "    <tr>\n",
       "      <th>3</th>\n",
       "      <td>Crude_Cross</td>\n",
       "      <td>8.00</td>\n",
       "      <td>8.00</td>\n",
       "      <td>0.000000</td>\n",
       "      <td>20</td>\n",
       "      <td>14888</td>\n",
       "      <td>0.018417</td>\n",
       "      <td>0.015989</td>\n",
       "    </tr>\n",
       "    <tr>\n",
       "      <th>4</th>\n",
       "      <td>Simple.E_Cross</td>\n",
       "      <td>20.00</td>\n",
       "      <td>20.00</td>\n",
       "      <td>0.000000</td>\n",
       "      <td>20</td>\n",
       "      <td>14786</td>\n",
       "      <td>0.121969</td>\n",
       "      <td>0.133317</td>\n",
       "    </tr>\n",
       "    <tr>\n",
       "      <th>5</th>\n",
       "      <td>Quartet_Cross</td>\n",
       "      <td>124.00</td>\n",
       "      <td>124.00</td>\n",
       "      <td>0.000000</td>\n",
       "      <td>20</td>\n",
       "      <td>17949</td>\n",
       "      <td>0.029326</td>\n",
       "      <td>0.023406</td>\n",
       "    </tr>\n",
       "    <tr>\n",
       "      <th>6</th>\n",
       "      <td>Full</td>\n",
       "      <td>112.05</td>\n",
       "      <td>112.05</td>\n",
       "      <td>0.000000</td>\n",
       "      <td>20</td>\n",
       "      <td>17847</td>\n",
       "      <td>3.893781</td>\n",
       "      <td>2.627289</td>\n",
       "    </tr>\n",
       "    <tr>\n",
       "      <th>0</th>\n",
       "      <td>Crude</td>\n",
       "      <td>12.00</td>\n",
       "      <td>12.00</td>\n",
       "      <td>0.000000</td>\n",
       "      <td>30</td>\n",
       "      <td>83006</td>\n",
       "      <td>0.088095</td>\n",
       "      <td>0.078481</td>\n",
       "    </tr>\n",
       "    <tr>\n",
       "      <th>1</th>\n",
       "      <td>Simple.E</td>\n",
       "      <td>23.00</td>\n",
       "      <td>23.00</td>\n",
       "      <td>0.000000</td>\n",
       "      <td>30</td>\n",
       "      <td>82741</td>\n",
       "      <td>0.529652</td>\n",
       "      <td>0.497914</td>\n",
       "    </tr>\n",
       "    <tr>\n",
       "      <th>2</th>\n",
       "      <td>Quartet</td>\n",
       "      <td>236.00</td>\n",
       "      <td>236.00</td>\n",
       "      <td>0.000000</td>\n",
       "      <td>30</td>\n",
       "      <td>89997</td>\n",
       "      <td>0.100903</td>\n",
       "      <td>0.083980</td>\n",
       "    </tr>\n",
       "    <tr>\n",
       "      <th>3</th>\n",
       "      <td>Crude_Cross</td>\n",
       "      <td>13.00</td>\n",
       "      <td>13.00</td>\n",
       "      <td>0.000000</td>\n",
       "      <td>30</td>\n",
       "      <td>83006</td>\n",
       "      <td>0.173608</td>\n",
       "      <td>0.138569</td>\n",
       "    </tr>\n",
       "    <tr>\n",
       "      <th>4</th>\n",
       "      <td>Simple.E_Cross</td>\n",
       "      <td>32.00</td>\n",
       "      <td>32.00</td>\n",
       "      <td>0.000000</td>\n",
       "      <td>30</td>\n",
       "      <td>82741</td>\n",
       "      <td>23.674621</td>\n",
       "      <td>33.699167</td>\n",
       "    </tr>\n",
       "    <tr>\n",
       "      <th>5</th>\n",
       "      <td>Quartet_Cross</td>\n",
       "      <td>261.00</td>\n",
       "      <td>261.00</td>\n",
       "      <td>0.000000</td>\n",
       "      <td>30</td>\n",
       "      <td>89997</td>\n",
       "      <td>0.406573</td>\n",
       "      <td>0.376760</td>\n",
       "    </tr>\n",
       "    <tr>\n",
       "      <th>6</th>\n",
       "      <td>Full</td>\n",
       "      <td>280.10</td>\n",
       "      <td>280.10</td>\n",
       "      <td>0.000000</td>\n",
       "      <td>30</td>\n",
       "      <td>89732</td>\n",
       "      <td>8.619098</td>\n",
       "      <td>7.586907</td>\n",
       "    </tr>\n",
       "    <tr>\n",
       "      <th>0</th>\n",
       "      <td>Crude</td>\n",
       "      <td>21.00</td>\n",
       "      <td>21.00</td>\n",
       "      <td>0.000000</td>\n",
       "      <td>50</td>\n",
       "      <td>693063</td>\n",
       "      <td>2.892717</td>\n",
       "      <td>3.232931</td>\n",
       "    </tr>\n",
       "    <tr>\n",
       "      <th>1</th>\n",
       "      <td>Simple.E</td>\n",
       "      <td>45.15</td>\n",
       "      <td>45.15</td>\n",
       "      <td>0.000000</td>\n",
       "      <td>50</td>\n",
       "      <td>692276</td>\n",
       "      <td>18.229978</td>\n",
       "      <td>25.407161</td>\n",
       "    </tr>\n",
       "    <tr>\n",
       "      <th>2</th>\n",
       "      <td>Quartet</td>\n",
       "      <td>596.00</td>\n",
       "      <td>596.00</td>\n",
       "      <td>0.000000</td>\n",
       "      <td>50</td>\n",
       "      <td>712714</td>\n",
       "      <td>2.204767</td>\n",
       "      <td>2.398372</td>\n",
       "    </tr>\n",
       "    <tr>\n",
       "      <th>3</th>\n",
       "      <td>Crude_Cross</td>\n",
       "      <td>22.00</td>\n",
       "      <td>22.00</td>\n",
       "      <td>0.000000</td>\n",
       "      <td>50</td>\n",
       "      <td>693063</td>\n",
       "      <td>3.037931</td>\n",
       "      <td>3.203672</td>\n",
       "    </tr>\n",
       "    <tr>\n",
       "      <th>4</th>\n",
       "      <td>Simple.E_Cross</td>\n",
       "      <td>53.10</td>\n",
       "      <td>58.10</td>\n",
       "      <td>0.094162</td>\n",
       "      <td>50</td>\n",
       "      <td>692276</td>\n",
       "      <td>300.089571</td>\n",
       "      <td>355.036257</td>\n",
       "    </tr>\n",
       "    <tr>\n",
       "      <th>5</th>\n",
       "      <td>Quartet_Cross</td>\n",
       "      <td>664.00</td>\n",
       "      <td>664.00</td>\n",
       "      <td>0.000000</td>\n",
       "      <td>50</td>\n",
       "      <td>712714</td>\n",
       "      <td>9.898969</td>\n",
       "      <td>9.005543</td>\n",
       "    </tr>\n",
       "    <tr>\n",
       "      <th>6</th>\n",
       "      <td>Full</td>\n",
       "      <td>545.10</td>\n",
       "      <td>648.60</td>\n",
       "      <td>0.189873</td>\n",
       "      <td>50</td>\n",
       "      <td>711927</td>\n",
       "      <td>300.531339</td>\n",
       "      <td>228.285889</td>\n",
       "    </tr>\n",
       "    <tr>\n",
       "      <th>0</th>\n",
       "      <td>Crude</td>\n",
       "      <td>44.00</td>\n",
       "      <td>46.00</td>\n",
       "      <td>0.045455</td>\n",
       "      <td>100</td>\n",
       "      <td>11772434</td>\n",
       "      <td>300.599831</td>\n",
       "      <td>484.184758</td>\n",
       "    </tr>\n",
       "    <tr>\n",
       "      <th>1</th>\n",
       "      <td>Simple.E</td>\n",
       "      <td>76.05</td>\n",
       "      <td>115.00</td>\n",
       "      <td>0.512163</td>\n",
       "      <td>100</td>\n",
       "      <td>11768926</td>\n",
       "      <td>350.722601</td>\n",
       "      <td>288.966640</td>\n",
       "    </tr>\n",
       "    <tr>\n",
       "      <th>2</th>\n",
       "      <td>Quartet</td>\n",
       "      <td>1039.00</td>\n",
       "      <td>1039.00</td>\n",
       "      <td>0.000000</td>\n",
       "      <td>100</td>\n",
       "      <td>11851735</td>\n",
       "      <td>164.320815</td>\n",
       "      <td>125.219391</td>\n",
       "    </tr>\n",
       "    <tr>\n",
       "      <th>3</th>\n",
       "      <td>Crude_Cross</td>\n",
       "      <td>46.00</td>\n",
       "      <td>46.00</td>\n",
       "      <td>0.000000</td>\n",
       "      <td>100</td>\n",
       "      <td>11772434</td>\n",
       "      <td>178.026844</td>\n",
       "      <td>236.192178</td>\n",
       "    </tr>\n",
       "    <tr>\n",
       "      <th>4</th>\n",
       "      <td>Simple.E_Cross</td>\n",
       "      <td>61.30</td>\n",
       "      <td>115.00</td>\n",
       "      <td>0.876020</td>\n",
       "      <td>100</td>\n",
       "      <td>11768926</td>\n",
       "      <td>301.720668</td>\n",
       "      <td>174.465313</td>\n",
       "    </tr>\n",
       "    <tr>\n",
       "      <th>5</th>\n",
       "      <td>Quartet_Cross</td>\n",
       "      <td>1081.00</td>\n",
       "      <td>1468.00</td>\n",
       "      <td>0.358002</td>\n",
       "      <td>100</td>\n",
       "      <td>11851735</td>\n",
       "      <td>302.655902</td>\n",
       "      <td>290.554296</td>\n",
       "    </tr>\n",
       "    <tr>\n",
       "      <th>6</th>\n",
       "      <td>Full</td>\n",
       "      <td>207.30</td>\n",
       "      <td>34744.85</td>\n",
       "      <td>166.606609</td>\n",
       "      <td>100</td>\n",
       "      <td>11848227</td>\n",
       "      <td>304.856509</td>\n",
       "      <td>133.002959</td>\n",
       "    </tr>\n",
       "  </tbody>\n",
       "</table>\n",
       "</div>"
      ],
      "text/plain": [
       "       Model_Type   ObjVal  ObjBound      MIPGap  InputSize  ModelSize  \\\n",
       "0           Crude     8.00      8.00    0.000000         20      14888   \n",
       "1        Simple.E    13.00     13.00    0.000000         20      14786   \n",
       "2         Quartet   123.00    123.00    0.000000         20      17949   \n",
       "3     Crude_Cross     8.00      8.00    0.000000         20      14888   \n",
       "4  Simple.E_Cross    20.00     20.00    0.000000         20      14786   \n",
       "5   Quartet_Cross   124.00    124.00    0.000000         20      17949   \n",
       "6            Full   112.05    112.05    0.000000         20      17847   \n",
       "0           Crude    12.00     12.00    0.000000         30      83006   \n",
       "1        Simple.E    23.00     23.00    0.000000         30      82741   \n",
       "2         Quartet   236.00    236.00    0.000000         30      89997   \n",
       "3     Crude_Cross    13.00     13.00    0.000000         30      83006   \n",
       "4  Simple.E_Cross    32.00     32.00    0.000000         30      82741   \n",
       "5   Quartet_Cross   261.00    261.00    0.000000         30      89997   \n",
       "6            Full   280.10    280.10    0.000000         30      89732   \n",
       "0           Crude    21.00     21.00    0.000000         50     693063   \n",
       "1        Simple.E    45.15     45.15    0.000000         50     692276   \n",
       "2         Quartet   596.00    596.00    0.000000         50     712714   \n",
       "3     Crude_Cross    22.00     22.00    0.000000         50     693063   \n",
       "4  Simple.E_Cross    53.10     58.10    0.094162         50     692276   \n",
       "5   Quartet_Cross   664.00    664.00    0.000000         50     712714   \n",
       "6            Full   545.10    648.60    0.189873         50     711927   \n",
       "0           Crude    44.00     46.00    0.045455        100   11772434   \n",
       "1        Simple.E    76.05    115.00    0.512163        100   11768926   \n",
       "2         Quartet  1039.00   1039.00    0.000000        100   11851735   \n",
       "3     Crude_Cross    46.00     46.00    0.000000        100   11772434   \n",
       "4  Simple.E_Cross    61.30    115.00    0.876020        100   11768926   \n",
       "5   Quartet_Cross  1081.00   1468.00    0.358002        100   11851735   \n",
       "6            Full   207.30  34744.85  166.606609        100   11848227   \n",
       "\n",
       "      RunTime        Work  \n",
       "0    0.009272    0.009541  \n",
       "1    0.030666    0.025634  \n",
       "2    0.017882    0.011058  \n",
       "3    0.018417    0.015989  \n",
       "4    0.121969    0.133317  \n",
       "5    0.029326    0.023406  \n",
       "6    3.893781    2.627289  \n",
       "0    0.088095    0.078481  \n",
       "1    0.529652    0.497914  \n",
       "2    0.100903    0.083980  \n",
       "3    0.173608    0.138569  \n",
       "4   23.674621   33.699167  \n",
       "5    0.406573    0.376760  \n",
       "6    8.619098    7.586907  \n",
       "0    2.892717    3.232931  \n",
       "1   18.229978   25.407161  \n",
       "2    2.204767    2.398372  \n",
       "3    3.037931    3.203672  \n",
       "4  300.089571  355.036257  \n",
       "5    9.898969    9.005543  \n",
       "6  300.531339  228.285889  \n",
       "0  300.599831  484.184758  \n",
       "1  350.722601  288.966640  \n",
       "2  164.320815  125.219391  \n",
       "3  178.026844  236.192178  \n",
       "4  301.720668  174.465313  \n",
       "5  302.655902  290.554296  \n",
       "6  304.856509  133.002959  "
      ]
     },
     "execution_count": 23,
     "metadata": {},
     "output_type": "execute_result"
    }
   ],
   "source": [
    "len(data)\n",
    "for i in range(1, 4):\n",
    "    temp_df = pd.DataFrame(data = data[i])\n",
    "    result = pd.concat([result, temp_df], axis=0)\n",
    "result"
   ]
  },
  {
   "cell_type": "code",
   "execution_count": 28,
   "metadata": {},
   "outputs": [
    {
     "data": {
      "application/vnd.plotly.v1+json": {
       "config": {
        "plotlyServerURL": "https://plot.ly"
       },
       "data": [
        {
         "hovertemplate": "Model_Type=Crude<br>InputSize=%{x}<br>RunTime=%{y}<extra></extra>",
         "legendgroup": "Crude",
         "line": {
          "color": "#636efa",
          "dash": "solid"
         },
         "mode": "lines",
         "name": "Crude",
         "orientation": "v",
         "showlegend": true,
         "type": "scatter",
         "x": [
          20,
          30,
          50,
          100
         ],
         "xaxis": "x",
         "y": [
          0.009272098541259766,
          0.08809494972229004,
          2.892716884613037,
          300.59983086586
         ],
         "yaxis": "y"
        },
        {
         "hovertemplate": "Model_Type=Simple.E<br>InputSize=%{x}<br>RunTime=%{y}<extra></extra>",
         "legendgroup": "Simple.E",
         "line": {
          "color": "#EF553B",
          "dash": "solid"
         },
         "mode": "lines",
         "name": "Simple.E",
         "orientation": "v",
         "showlegend": true,
         "type": "scatter",
         "x": [
          20,
          30,
          50,
          100
         ],
         "xaxis": "x",
         "y": [
          0.030665874481201172,
          0.5296518802642822,
          18.22997808456421,
          350.72260093688965
         ],
         "yaxis": "y"
        },
        {
         "hovertemplate": "Model_Type=Quartet<br>InputSize=%{x}<br>RunTime=%{y}<extra></extra>",
         "legendgroup": "Quartet",
         "line": {
          "color": "#00cc96",
          "dash": "solid"
         },
         "mode": "lines",
         "name": "Quartet",
         "orientation": "v",
         "showlegend": true,
         "type": "scatter",
         "x": [
          20,
          30,
          50,
          100
         ],
         "xaxis": "x",
         "y": [
          0.017882108688354492,
          0.10090303421020508,
          2.2047669887542725,
          164.32081508636475
         ],
         "yaxis": "y"
        },
        {
         "hovertemplate": "Model_Type=Crude_Cross<br>InputSize=%{x}<br>RunTime=%{y}<extra></extra>",
         "legendgroup": "Crude_Cross",
         "line": {
          "color": "#ab63fa",
          "dash": "solid"
         },
         "mode": "lines",
         "name": "Crude_Cross",
         "orientation": "v",
         "showlegend": true,
         "type": "scatter",
         "x": [
          20,
          30,
          50,
          100
         ],
         "xaxis": "x",
         "y": [
          0.018416881561279297,
          0.17360806465148926,
          3.037930965423584,
          178.0268440246582
         ],
         "yaxis": "y"
        },
        {
         "hovertemplate": "Model_Type=Simple.E_Cross<br>InputSize=%{x}<br>RunTime=%{y}<extra></extra>",
         "legendgroup": "Simple.E_Cross",
         "line": {
          "color": "#FFA15A",
          "dash": "solid"
         },
         "mode": "lines",
         "name": "Simple.E_Cross",
         "orientation": "v",
         "showlegend": true,
         "type": "scatter",
         "x": [
          20,
          30,
          50,
          100
         ],
         "xaxis": "x",
         "y": [
          0.12196898460388184,
          23.674621105194092,
          300.0895709991455,
          301.7206680774689
         ],
         "yaxis": "y"
        },
        {
         "hovertemplate": "Model_Type=Quartet_Cross<br>InputSize=%{x}<br>RunTime=%{y}<extra></extra>",
         "legendgroup": "Quartet_Cross",
         "line": {
          "color": "#19d3f3",
          "dash": "solid"
         },
         "mode": "lines",
         "name": "Quartet_Cross",
         "orientation": "v",
         "showlegend": true,
         "type": "scatter",
         "x": [
          20,
          30,
          50,
          100
         ],
         "xaxis": "x",
         "y": [
          0.02932596206665039,
          0.4065730571746826,
          9.898968935012817,
          302.6559019088745
         ],
         "yaxis": "y"
        },
        {
         "hovertemplate": "Model_Type=Full<br>InputSize=%{x}<br>RunTime=%{y}<extra></extra>",
         "legendgroup": "Full",
         "line": {
          "color": "#FF6692",
          "dash": "solid"
         },
         "mode": "lines",
         "name": "Full",
         "orientation": "v",
         "showlegend": true,
         "type": "scatter",
         "x": [
          20,
          30,
          50,
          100
         ],
         "xaxis": "x",
         "y": [
          3.8937809467315674,
          8.61909794807434,
          300.53133893013,
          304.8565089702606
         ],
         "yaxis": "y"
        }
       ],
       "layout": {
        "legend": {
         "title": {
          "text": "Model_Type"
         },
         "tracegroupgap": 0
        },
        "margin": {
         "t": 60
        },
        "template": {
         "data": {
          "bar": [
           {
            "error_x": {
             "color": "#2a3f5f"
            },
            "error_y": {
             "color": "#2a3f5f"
            },
            "marker": {
             "line": {
              "color": "#E5ECF6",
              "width": 0.5
             }
            },
            "type": "bar"
           }
          ],
          "barpolar": [
           {
            "marker": {
             "line": {
              "color": "#E5ECF6",
              "width": 0.5
             }
            },
            "type": "barpolar"
           }
          ],
          "carpet": [
           {
            "aaxis": {
             "endlinecolor": "#2a3f5f",
             "gridcolor": "white",
             "linecolor": "white",
             "minorgridcolor": "white",
             "startlinecolor": "#2a3f5f"
            },
            "baxis": {
             "endlinecolor": "#2a3f5f",
             "gridcolor": "white",
             "linecolor": "white",
             "minorgridcolor": "white",
             "startlinecolor": "#2a3f5f"
            },
            "type": "carpet"
           }
          ],
          "choropleth": [
           {
            "colorbar": {
             "outlinewidth": 0,
             "ticks": ""
            },
            "type": "choropleth"
           }
          ],
          "contour": [
           {
            "colorbar": {
             "outlinewidth": 0,
             "ticks": ""
            },
            "colorscale": [
             [
              0,
              "#0d0887"
             ],
             [
              0.1111111111111111,
              "#46039f"
             ],
             [
              0.2222222222222222,
              "#7201a8"
             ],
             [
              0.3333333333333333,
              "#9c179e"
             ],
             [
              0.4444444444444444,
              "#bd3786"
             ],
             [
              0.5555555555555556,
              "#d8576b"
             ],
             [
              0.6666666666666666,
              "#ed7953"
             ],
             [
              0.7777777777777778,
              "#fb9f3a"
             ],
             [
              0.8888888888888888,
              "#fdca26"
             ],
             [
              1,
              "#f0f921"
             ]
            ],
            "type": "contour"
           }
          ],
          "contourcarpet": [
           {
            "colorbar": {
             "outlinewidth": 0,
             "ticks": ""
            },
            "type": "contourcarpet"
           }
          ],
          "heatmap": [
           {
            "colorbar": {
             "outlinewidth": 0,
             "ticks": ""
            },
            "colorscale": [
             [
              0,
              "#0d0887"
             ],
             [
              0.1111111111111111,
              "#46039f"
             ],
             [
              0.2222222222222222,
              "#7201a8"
             ],
             [
              0.3333333333333333,
              "#9c179e"
             ],
             [
              0.4444444444444444,
              "#bd3786"
             ],
             [
              0.5555555555555556,
              "#d8576b"
             ],
             [
              0.6666666666666666,
              "#ed7953"
             ],
             [
              0.7777777777777778,
              "#fb9f3a"
             ],
             [
              0.8888888888888888,
              "#fdca26"
             ],
             [
              1,
              "#f0f921"
             ]
            ],
            "type": "heatmap"
           }
          ],
          "heatmapgl": [
           {
            "colorbar": {
             "outlinewidth": 0,
             "ticks": ""
            },
            "colorscale": [
             [
              0,
              "#0d0887"
             ],
             [
              0.1111111111111111,
              "#46039f"
             ],
             [
              0.2222222222222222,
              "#7201a8"
             ],
             [
              0.3333333333333333,
              "#9c179e"
             ],
             [
              0.4444444444444444,
              "#bd3786"
             ],
             [
              0.5555555555555556,
              "#d8576b"
             ],
             [
              0.6666666666666666,
              "#ed7953"
             ],
             [
              0.7777777777777778,
              "#fb9f3a"
             ],
             [
              0.8888888888888888,
              "#fdca26"
             ],
             [
              1,
              "#f0f921"
             ]
            ],
            "type": "heatmapgl"
           }
          ],
          "histogram": [
           {
            "marker": {
             "colorbar": {
              "outlinewidth": 0,
              "ticks": ""
             }
            },
            "type": "histogram"
           }
          ],
          "histogram2d": [
           {
            "colorbar": {
             "outlinewidth": 0,
             "ticks": ""
            },
            "colorscale": [
             [
              0,
              "#0d0887"
             ],
             [
              0.1111111111111111,
              "#46039f"
             ],
             [
              0.2222222222222222,
              "#7201a8"
             ],
             [
              0.3333333333333333,
              "#9c179e"
             ],
             [
              0.4444444444444444,
              "#bd3786"
             ],
             [
              0.5555555555555556,
              "#d8576b"
             ],
             [
              0.6666666666666666,
              "#ed7953"
             ],
             [
              0.7777777777777778,
              "#fb9f3a"
             ],
             [
              0.8888888888888888,
              "#fdca26"
             ],
             [
              1,
              "#f0f921"
             ]
            ],
            "type": "histogram2d"
           }
          ],
          "histogram2dcontour": [
           {
            "colorbar": {
             "outlinewidth": 0,
             "ticks": ""
            },
            "colorscale": [
             [
              0,
              "#0d0887"
             ],
             [
              0.1111111111111111,
              "#46039f"
             ],
             [
              0.2222222222222222,
              "#7201a8"
             ],
             [
              0.3333333333333333,
              "#9c179e"
             ],
             [
              0.4444444444444444,
              "#bd3786"
             ],
             [
              0.5555555555555556,
              "#d8576b"
             ],
             [
              0.6666666666666666,
              "#ed7953"
             ],
             [
              0.7777777777777778,
              "#fb9f3a"
             ],
             [
              0.8888888888888888,
              "#fdca26"
             ],
             [
              1,
              "#f0f921"
             ]
            ],
            "type": "histogram2dcontour"
           }
          ],
          "mesh3d": [
           {
            "colorbar": {
             "outlinewidth": 0,
             "ticks": ""
            },
            "type": "mesh3d"
           }
          ],
          "parcoords": [
           {
            "line": {
             "colorbar": {
              "outlinewidth": 0,
              "ticks": ""
             }
            },
            "type": "parcoords"
           }
          ],
          "pie": [
           {
            "automargin": true,
            "type": "pie"
           }
          ],
          "scatter": [
           {
            "marker": {
             "colorbar": {
              "outlinewidth": 0,
              "ticks": ""
             }
            },
            "type": "scatter"
           }
          ],
          "scatter3d": [
           {
            "line": {
             "colorbar": {
              "outlinewidth": 0,
              "ticks": ""
             }
            },
            "marker": {
             "colorbar": {
              "outlinewidth": 0,
              "ticks": ""
             }
            },
            "type": "scatter3d"
           }
          ],
          "scattercarpet": [
           {
            "marker": {
             "colorbar": {
              "outlinewidth": 0,
              "ticks": ""
             }
            },
            "type": "scattercarpet"
           }
          ],
          "scattergeo": [
           {
            "marker": {
             "colorbar": {
              "outlinewidth": 0,
              "ticks": ""
             }
            },
            "type": "scattergeo"
           }
          ],
          "scattergl": [
           {
            "marker": {
             "colorbar": {
              "outlinewidth": 0,
              "ticks": ""
             }
            },
            "type": "scattergl"
           }
          ],
          "scattermapbox": [
           {
            "marker": {
             "colorbar": {
              "outlinewidth": 0,
              "ticks": ""
             }
            },
            "type": "scattermapbox"
           }
          ],
          "scatterpolar": [
           {
            "marker": {
             "colorbar": {
              "outlinewidth": 0,
              "ticks": ""
             }
            },
            "type": "scatterpolar"
           }
          ],
          "scatterpolargl": [
           {
            "marker": {
             "colorbar": {
              "outlinewidth": 0,
              "ticks": ""
             }
            },
            "type": "scatterpolargl"
           }
          ],
          "scatterternary": [
           {
            "marker": {
             "colorbar": {
              "outlinewidth": 0,
              "ticks": ""
             }
            },
            "type": "scatterternary"
           }
          ],
          "surface": [
           {
            "colorbar": {
             "outlinewidth": 0,
             "ticks": ""
            },
            "colorscale": [
             [
              0,
              "#0d0887"
             ],
             [
              0.1111111111111111,
              "#46039f"
             ],
             [
              0.2222222222222222,
              "#7201a8"
             ],
             [
              0.3333333333333333,
              "#9c179e"
             ],
             [
              0.4444444444444444,
              "#bd3786"
             ],
             [
              0.5555555555555556,
              "#d8576b"
             ],
             [
              0.6666666666666666,
              "#ed7953"
             ],
             [
              0.7777777777777778,
              "#fb9f3a"
             ],
             [
              0.8888888888888888,
              "#fdca26"
             ],
             [
              1,
              "#f0f921"
             ]
            ],
            "type": "surface"
           }
          ],
          "table": [
           {
            "cells": {
             "fill": {
              "color": "#EBF0F8"
             },
             "line": {
              "color": "white"
             }
            },
            "header": {
             "fill": {
              "color": "#C8D4E3"
             },
             "line": {
              "color": "white"
             }
            },
            "type": "table"
           }
          ]
         },
         "layout": {
          "annotationdefaults": {
           "arrowcolor": "#2a3f5f",
           "arrowhead": 0,
           "arrowwidth": 1
          },
          "coloraxis": {
           "colorbar": {
            "outlinewidth": 0,
            "ticks": ""
           }
          },
          "colorscale": {
           "diverging": [
            [
             0,
             "#8e0152"
            ],
            [
             0.1,
             "#c51b7d"
            ],
            [
             0.2,
             "#de77ae"
            ],
            [
             0.3,
             "#f1b6da"
            ],
            [
             0.4,
             "#fde0ef"
            ],
            [
             0.5,
             "#f7f7f7"
            ],
            [
             0.6,
             "#e6f5d0"
            ],
            [
             0.7,
             "#b8e186"
            ],
            [
             0.8,
             "#7fbc41"
            ],
            [
             0.9,
             "#4d9221"
            ],
            [
             1,
             "#276419"
            ]
           ],
           "sequential": [
            [
             0,
             "#0d0887"
            ],
            [
             0.1111111111111111,
             "#46039f"
            ],
            [
             0.2222222222222222,
             "#7201a8"
            ],
            [
             0.3333333333333333,
             "#9c179e"
            ],
            [
             0.4444444444444444,
             "#bd3786"
            ],
            [
             0.5555555555555556,
             "#d8576b"
            ],
            [
             0.6666666666666666,
             "#ed7953"
            ],
            [
             0.7777777777777778,
             "#fb9f3a"
            ],
            [
             0.8888888888888888,
             "#fdca26"
            ],
            [
             1,
             "#f0f921"
            ]
           ],
           "sequentialminus": [
            [
             0,
             "#0d0887"
            ],
            [
             0.1111111111111111,
             "#46039f"
            ],
            [
             0.2222222222222222,
             "#7201a8"
            ],
            [
             0.3333333333333333,
             "#9c179e"
            ],
            [
             0.4444444444444444,
             "#bd3786"
            ],
            [
             0.5555555555555556,
             "#d8576b"
            ],
            [
             0.6666666666666666,
             "#ed7953"
            ],
            [
             0.7777777777777778,
             "#fb9f3a"
            ],
            [
             0.8888888888888888,
             "#fdca26"
            ],
            [
             1,
             "#f0f921"
            ]
           ]
          },
          "colorway": [
           "#636efa",
           "#EF553B",
           "#00cc96",
           "#ab63fa",
           "#FFA15A",
           "#19d3f3",
           "#FF6692",
           "#B6E880",
           "#FF97FF",
           "#FECB52"
          ],
          "font": {
           "color": "#2a3f5f"
          },
          "geo": {
           "bgcolor": "white",
           "lakecolor": "white",
           "landcolor": "#E5ECF6",
           "showlakes": true,
           "showland": true,
           "subunitcolor": "white"
          },
          "hoverlabel": {
           "align": "left"
          },
          "hovermode": "closest",
          "mapbox": {
           "style": "light"
          },
          "paper_bgcolor": "white",
          "plot_bgcolor": "#E5ECF6",
          "polar": {
           "angularaxis": {
            "gridcolor": "white",
            "linecolor": "white",
            "ticks": ""
           },
           "bgcolor": "#E5ECF6",
           "radialaxis": {
            "gridcolor": "white",
            "linecolor": "white",
            "ticks": ""
           }
          },
          "scene": {
           "xaxis": {
            "backgroundcolor": "#E5ECF6",
            "gridcolor": "white",
            "gridwidth": 2,
            "linecolor": "white",
            "showbackground": true,
            "ticks": "",
            "zerolinecolor": "white"
           },
           "yaxis": {
            "backgroundcolor": "#E5ECF6",
            "gridcolor": "white",
            "gridwidth": 2,
            "linecolor": "white",
            "showbackground": true,
            "ticks": "",
            "zerolinecolor": "white"
           },
           "zaxis": {
            "backgroundcolor": "#E5ECF6",
            "gridcolor": "white",
            "gridwidth": 2,
            "linecolor": "white",
            "showbackground": true,
            "ticks": "",
            "zerolinecolor": "white"
           }
          },
          "shapedefaults": {
           "line": {
            "color": "#2a3f5f"
           }
          },
          "ternary": {
           "aaxis": {
            "gridcolor": "white",
            "linecolor": "white",
            "ticks": ""
           },
           "baxis": {
            "gridcolor": "white",
            "linecolor": "white",
            "ticks": ""
           },
           "bgcolor": "#E5ECF6",
           "caxis": {
            "gridcolor": "white",
            "linecolor": "white",
            "ticks": ""
           }
          },
          "title": {
           "x": 0.05
          },
          "xaxis": {
           "automargin": true,
           "gridcolor": "white",
           "linecolor": "white",
           "ticks": "",
           "title": {
            "standoff": 15
           },
           "zerolinecolor": "white",
           "zerolinewidth": 2
          },
          "yaxis": {
           "automargin": true,
           "gridcolor": "white",
           "linecolor": "white",
           "ticks": "",
           "title": {
            "standoff": 15
           },
           "zerolinecolor": "white",
           "zerolinewidth": 2
          }
         }
        },
        "xaxis": {
         "anchor": "y",
         "domain": [
          0,
          1
         ],
         "title": {
          "text": "InputSize"
         }
        },
        "yaxis": {
         "anchor": "x",
         "domain": [
          0,
          1
         ],
         "title": {
          "text": "RunTime"
         }
        }
       }
      }
     },
     "metadata": {},
     "output_type": "display_data"
    }
   ],
   "source": [
    "fig = px.line(data_frame= result, x = \"InputSize\", y = \"RunTime\", color= \"Model_Type\")\n",
    "fig.show()"
   ]
  },
  {
   "cell_type": "code",
   "execution_count": 29,
   "metadata": {},
   "outputs": [
    {
     "data": {
      "application/vnd.plotly.v1+json": {
       "config": {
        "plotlyServerURL": "https://plot.ly"
       },
       "data": [
        {
         "hovertemplate": "Model_Type=Crude<br>InputSize=%{x}<br>Work=%{y}<extra></extra>",
         "legendgroup": "Crude",
         "line": {
          "color": "#636efa",
          "dash": "solid"
         },
         "mode": "lines",
         "name": "Crude",
         "orientation": "v",
         "showlegend": true,
         "type": "scatter",
         "x": [
          20,
          30,
          50,
          100
         ],
         "xaxis": "x",
         "y": [
          0.009540555658018627,
          0.07848071621219953,
          3.2329307059418215,
          484.1847577157469
         ],
         "yaxis": "y"
        },
        {
         "hovertemplate": "Model_Type=Simple.E<br>InputSize=%{x}<br>Work=%{y}<extra></extra>",
         "legendgroup": "Simple.E",
         "line": {
          "color": "#EF553B",
          "dash": "solid"
         },
         "mode": "lines",
         "name": "Simple.E",
         "orientation": "v",
         "showlegend": true,
         "type": "scatter",
         "x": [
          20,
          30,
          50,
          100
         ],
         "xaxis": "x",
         "y": [
          0.025634281460603786,
          0.4979138805323791,
          25.407160943458724,
          288.9666404765996
         ],
         "yaxis": "y"
        },
        {
         "hovertemplate": "Model_Type=Quartet<br>InputSize=%{x}<br>Work=%{y}<extra></extra>",
         "legendgroup": "Quartet",
         "line": {
          "color": "#00cc96",
          "dash": "solid"
         },
         "mode": "lines",
         "name": "Quartet",
         "orientation": "v",
         "showlegend": true,
         "type": "scatter",
         "x": [
          20,
          30,
          50,
          100
         ],
         "xaxis": "x",
         "y": [
          0.011057749625589038,
          0.08397962869453883,
          2.398372014756973,
          125.21939058752278
         ],
         "yaxis": "y"
        },
        {
         "hovertemplate": "Model_Type=Crude_Cross<br>InputSize=%{x}<br>Work=%{y}<extra></extra>",
         "legendgroup": "Crude_Cross",
         "line": {
          "color": "#ab63fa",
          "dash": "solid"
         },
         "mode": "lines",
         "name": "Crude_Cross",
         "orientation": "v",
         "showlegend": true,
         "type": "scatter",
         "x": [
          20,
          30,
          50,
          100
         ],
         "xaxis": "x",
         "y": [
          0.015988614793262176,
          0.13856922257697157,
          3.203672122080865,
          236.19217817438394
         ],
         "yaxis": "y"
        },
        {
         "hovertemplate": "Model_Type=Simple.E_Cross<br>InputSize=%{x}<br>Work=%{y}<extra></extra>",
         "legendgroup": "Simple.E_Cross",
         "line": {
          "color": "#FFA15A",
          "dash": "solid"
         },
         "mode": "lines",
         "name": "Simple.E_Cross",
         "orientation": "v",
         "showlegend": true,
         "type": "scatter",
         "x": [
          20,
          30,
          50,
          100
         ],
         "xaxis": "x",
         "y": [
          0.133317371162885,
          33.699166875054054,
          355.03625701403257,
          174.46531271245877
         ],
         "yaxis": "y"
        },
        {
         "hovertemplate": "Model_Type=Quartet_Cross<br>InputSize=%{x}<br>Work=%{y}<extra></extra>",
         "legendgroup": "Quartet_Cross",
         "line": {
          "color": "#19d3f3",
          "dash": "solid"
         },
         "mode": "lines",
         "name": "Quartet_Cross",
         "orientation": "v",
         "showlegend": true,
         "type": "scatter",
         "x": [
          20,
          30,
          50,
          100
         ],
         "xaxis": "x",
         "y": [
          0.02340557313732418,
          0.37675979781241276,
          9.005543380751165,
          290.55429637049633
         ],
         "yaxis": "y"
        },
        {
         "hovertemplate": "Model_Type=Full<br>InputSize=%{x}<br>Work=%{y}<extra></extra>",
         "legendgroup": "Full",
         "line": {
          "color": "#FF6692",
          "dash": "solid"
         },
         "mode": "lines",
         "name": "Full",
         "orientation": "v",
         "showlegend": true,
         "type": "scatter",
         "x": [
          20,
          30,
          50,
          100
         ],
         "xaxis": "x",
         "y": [
          2.6272893681440936,
          7.586907291437365,
          228.2858889992837,
          133.00295920133306
         ],
         "yaxis": "y"
        }
       ],
       "layout": {
        "legend": {
         "title": {
          "text": "Model_Type"
         },
         "tracegroupgap": 0
        },
        "margin": {
         "t": 60
        },
        "template": {
         "data": {
          "bar": [
           {
            "error_x": {
             "color": "#2a3f5f"
            },
            "error_y": {
             "color": "#2a3f5f"
            },
            "marker": {
             "line": {
              "color": "#E5ECF6",
              "width": 0.5
             }
            },
            "type": "bar"
           }
          ],
          "barpolar": [
           {
            "marker": {
             "line": {
              "color": "#E5ECF6",
              "width": 0.5
             }
            },
            "type": "barpolar"
           }
          ],
          "carpet": [
           {
            "aaxis": {
             "endlinecolor": "#2a3f5f",
             "gridcolor": "white",
             "linecolor": "white",
             "minorgridcolor": "white",
             "startlinecolor": "#2a3f5f"
            },
            "baxis": {
             "endlinecolor": "#2a3f5f",
             "gridcolor": "white",
             "linecolor": "white",
             "minorgridcolor": "white",
             "startlinecolor": "#2a3f5f"
            },
            "type": "carpet"
           }
          ],
          "choropleth": [
           {
            "colorbar": {
             "outlinewidth": 0,
             "ticks": ""
            },
            "type": "choropleth"
           }
          ],
          "contour": [
           {
            "colorbar": {
             "outlinewidth": 0,
             "ticks": ""
            },
            "colorscale": [
             [
              0,
              "#0d0887"
             ],
             [
              0.1111111111111111,
              "#46039f"
             ],
             [
              0.2222222222222222,
              "#7201a8"
             ],
             [
              0.3333333333333333,
              "#9c179e"
             ],
             [
              0.4444444444444444,
              "#bd3786"
             ],
             [
              0.5555555555555556,
              "#d8576b"
             ],
             [
              0.6666666666666666,
              "#ed7953"
             ],
             [
              0.7777777777777778,
              "#fb9f3a"
             ],
             [
              0.8888888888888888,
              "#fdca26"
             ],
             [
              1,
              "#f0f921"
             ]
            ],
            "type": "contour"
           }
          ],
          "contourcarpet": [
           {
            "colorbar": {
             "outlinewidth": 0,
             "ticks": ""
            },
            "type": "contourcarpet"
           }
          ],
          "heatmap": [
           {
            "colorbar": {
             "outlinewidth": 0,
             "ticks": ""
            },
            "colorscale": [
             [
              0,
              "#0d0887"
             ],
             [
              0.1111111111111111,
              "#46039f"
             ],
             [
              0.2222222222222222,
              "#7201a8"
             ],
             [
              0.3333333333333333,
              "#9c179e"
             ],
             [
              0.4444444444444444,
              "#bd3786"
             ],
             [
              0.5555555555555556,
              "#d8576b"
             ],
             [
              0.6666666666666666,
              "#ed7953"
             ],
             [
              0.7777777777777778,
              "#fb9f3a"
             ],
             [
              0.8888888888888888,
              "#fdca26"
             ],
             [
              1,
              "#f0f921"
             ]
            ],
            "type": "heatmap"
           }
          ],
          "heatmapgl": [
           {
            "colorbar": {
             "outlinewidth": 0,
             "ticks": ""
            },
            "colorscale": [
             [
              0,
              "#0d0887"
             ],
             [
              0.1111111111111111,
              "#46039f"
             ],
             [
              0.2222222222222222,
              "#7201a8"
             ],
             [
              0.3333333333333333,
              "#9c179e"
             ],
             [
              0.4444444444444444,
              "#bd3786"
             ],
             [
              0.5555555555555556,
              "#d8576b"
             ],
             [
              0.6666666666666666,
              "#ed7953"
             ],
             [
              0.7777777777777778,
              "#fb9f3a"
             ],
             [
              0.8888888888888888,
              "#fdca26"
             ],
             [
              1,
              "#f0f921"
             ]
            ],
            "type": "heatmapgl"
           }
          ],
          "histogram": [
           {
            "marker": {
             "colorbar": {
              "outlinewidth": 0,
              "ticks": ""
             }
            },
            "type": "histogram"
           }
          ],
          "histogram2d": [
           {
            "colorbar": {
             "outlinewidth": 0,
             "ticks": ""
            },
            "colorscale": [
             [
              0,
              "#0d0887"
             ],
             [
              0.1111111111111111,
              "#46039f"
             ],
             [
              0.2222222222222222,
              "#7201a8"
             ],
             [
              0.3333333333333333,
              "#9c179e"
             ],
             [
              0.4444444444444444,
              "#bd3786"
             ],
             [
              0.5555555555555556,
              "#d8576b"
             ],
             [
              0.6666666666666666,
              "#ed7953"
             ],
             [
              0.7777777777777778,
              "#fb9f3a"
             ],
             [
              0.8888888888888888,
              "#fdca26"
             ],
             [
              1,
              "#f0f921"
             ]
            ],
            "type": "histogram2d"
           }
          ],
          "histogram2dcontour": [
           {
            "colorbar": {
             "outlinewidth": 0,
             "ticks": ""
            },
            "colorscale": [
             [
              0,
              "#0d0887"
             ],
             [
              0.1111111111111111,
              "#46039f"
             ],
             [
              0.2222222222222222,
              "#7201a8"
             ],
             [
              0.3333333333333333,
              "#9c179e"
             ],
             [
              0.4444444444444444,
              "#bd3786"
             ],
             [
              0.5555555555555556,
              "#d8576b"
             ],
             [
              0.6666666666666666,
              "#ed7953"
             ],
             [
              0.7777777777777778,
              "#fb9f3a"
             ],
             [
              0.8888888888888888,
              "#fdca26"
             ],
             [
              1,
              "#f0f921"
             ]
            ],
            "type": "histogram2dcontour"
           }
          ],
          "mesh3d": [
           {
            "colorbar": {
             "outlinewidth": 0,
             "ticks": ""
            },
            "type": "mesh3d"
           }
          ],
          "parcoords": [
           {
            "line": {
             "colorbar": {
              "outlinewidth": 0,
              "ticks": ""
             }
            },
            "type": "parcoords"
           }
          ],
          "pie": [
           {
            "automargin": true,
            "type": "pie"
           }
          ],
          "scatter": [
           {
            "marker": {
             "colorbar": {
              "outlinewidth": 0,
              "ticks": ""
             }
            },
            "type": "scatter"
           }
          ],
          "scatter3d": [
           {
            "line": {
             "colorbar": {
              "outlinewidth": 0,
              "ticks": ""
             }
            },
            "marker": {
             "colorbar": {
              "outlinewidth": 0,
              "ticks": ""
             }
            },
            "type": "scatter3d"
           }
          ],
          "scattercarpet": [
           {
            "marker": {
             "colorbar": {
              "outlinewidth": 0,
              "ticks": ""
             }
            },
            "type": "scattercarpet"
           }
          ],
          "scattergeo": [
           {
            "marker": {
             "colorbar": {
              "outlinewidth": 0,
              "ticks": ""
             }
            },
            "type": "scattergeo"
           }
          ],
          "scattergl": [
           {
            "marker": {
             "colorbar": {
              "outlinewidth": 0,
              "ticks": ""
             }
            },
            "type": "scattergl"
           }
          ],
          "scattermapbox": [
           {
            "marker": {
             "colorbar": {
              "outlinewidth": 0,
              "ticks": ""
             }
            },
            "type": "scattermapbox"
           }
          ],
          "scatterpolar": [
           {
            "marker": {
             "colorbar": {
              "outlinewidth": 0,
              "ticks": ""
             }
            },
            "type": "scatterpolar"
           }
          ],
          "scatterpolargl": [
           {
            "marker": {
             "colorbar": {
              "outlinewidth": 0,
              "ticks": ""
             }
            },
            "type": "scatterpolargl"
           }
          ],
          "scatterternary": [
           {
            "marker": {
             "colorbar": {
              "outlinewidth": 0,
              "ticks": ""
             }
            },
            "type": "scatterternary"
           }
          ],
          "surface": [
           {
            "colorbar": {
             "outlinewidth": 0,
             "ticks": ""
            },
            "colorscale": [
             [
              0,
              "#0d0887"
             ],
             [
              0.1111111111111111,
              "#46039f"
             ],
             [
              0.2222222222222222,
              "#7201a8"
             ],
             [
              0.3333333333333333,
              "#9c179e"
             ],
             [
              0.4444444444444444,
              "#bd3786"
             ],
             [
              0.5555555555555556,
              "#d8576b"
             ],
             [
              0.6666666666666666,
              "#ed7953"
             ],
             [
              0.7777777777777778,
              "#fb9f3a"
             ],
             [
              0.8888888888888888,
              "#fdca26"
             ],
             [
              1,
              "#f0f921"
             ]
            ],
            "type": "surface"
           }
          ],
          "table": [
           {
            "cells": {
             "fill": {
              "color": "#EBF0F8"
             },
             "line": {
              "color": "white"
             }
            },
            "header": {
             "fill": {
              "color": "#C8D4E3"
             },
             "line": {
              "color": "white"
             }
            },
            "type": "table"
           }
          ]
         },
         "layout": {
          "annotationdefaults": {
           "arrowcolor": "#2a3f5f",
           "arrowhead": 0,
           "arrowwidth": 1
          },
          "coloraxis": {
           "colorbar": {
            "outlinewidth": 0,
            "ticks": ""
           }
          },
          "colorscale": {
           "diverging": [
            [
             0,
             "#8e0152"
            ],
            [
             0.1,
             "#c51b7d"
            ],
            [
             0.2,
             "#de77ae"
            ],
            [
             0.3,
             "#f1b6da"
            ],
            [
             0.4,
             "#fde0ef"
            ],
            [
             0.5,
             "#f7f7f7"
            ],
            [
             0.6,
             "#e6f5d0"
            ],
            [
             0.7,
             "#b8e186"
            ],
            [
             0.8,
             "#7fbc41"
            ],
            [
             0.9,
             "#4d9221"
            ],
            [
             1,
             "#276419"
            ]
           ],
           "sequential": [
            [
             0,
             "#0d0887"
            ],
            [
             0.1111111111111111,
             "#46039f"
            ],
            [
             0.2222222222222222,
             "#7201a8"
            ],
            [
             0.3333333333333333,
             "#9c179e"
            ],
            [
             0.4444444444444444,
             "#bd3786"
            ],
            [
             0.5555555555555556,
             "#d8576b"
            ],
            [
             0.6666666666666666,
             "#ed7953"
            ],
            [
             0.7777777777777778,
             "#fb9f3a"
            ],
            [
             0.8888888888888888,
             "#fdca26"
            ],
            [
             1,
             "#f0f921"
            ]
           ],
           "sequentialminus": [
            [
             0,
             "#0d0887"
            ],
            [
             0.1111111111111111,
             "#46039f"
            ],
            [
             0.2222222222222222,
             "#7201a8"
            ],
            [
             0.3333333333333333,
             "#9c179e"
            ],
            [
             0.4444444444444444,
             "#bd3786"
            ],
            [
             0.5555555555555556,
             "#d8576b"
            ],
            [
             0.6666666666666666,
             "#ed7953"
            ],
            [
             0.7777777777777778,
             "#fb9f3a"
            ],
            [
             0.8888888888888888,
             "#fdca26"
            ],
            [
             1,
             "#f0f921"
            ]
           ]
          },
          "colorway": [
           "#636efa",
           "#EF553B",
           "#00cc96",
           "#ab63fa",
           "#FFA15A",
           "#19d3f3",
           "#FF6692",
           "#B6E880",
           "#FF97FF",
           "#FECB52"
          ],
          "font": {
           "color": "#2a3f5f"
          },
          "geo": {
           "bgcolor": "white",
           "lakecolor": "white",
           "landcolor": "#E5ECF6",
           "showlakes": true,
           "showland": true,
           "subunitcolor": "white"
          },
          "hoverlabel": {
           "align": "left"
          },
          "hovermode": "closest",
          "mapbox": {
           "style": "light"
          },
          "paper_bgcolor": "white",
          "plot_bgcolor": "#E5ECF6",
          "polar": {
           "angularaxis": {
            "gridcolor": "white",
            "linecolor": "white",
            "ticks": ""
           },
           "bgcolor": "#E5ECF6",
           "radialaxis": {
            "gridcolor": "white",
            "linecolor": "white",
            "ticks": ""
           }
          },
          "scene": {
           "xaxis": {
            "backgroundcolor": "#E5ECF6",
            "gridcolor": "white",
            "gridwidth": 2,
            "linecolor": "white",
            "showbackground": true,
            "ticks": "",
            "zerolinecolor": "white"
           },
           "yaxis": {
            "backgroundcolor": "#E5ECF6",
            "gridcolor": "white",
            "gridwidth": 2,
            "linecolor": "white",
            "showbackground": true,
            "ticks": "",
            "zerolinecolor": "white"
           },
           "zaxis": {
            "backgroundcolor": "#E5ECF6",
            "gridcolor": "white",
            "gridwidth": 2,
            "linecolor": "white",
            "showbackground": true,
            "ticks": "",
            "zerolinecolor": "white"
           }
          },
          "shapedefaults": {
           "line": {
            "color": "#2a3f5f"
           }
          },
          "ternary": {
           "aaxis": {
            "gridcolor": "white",
            "linecolor": "white",
            "ticks": ""
           },
           "baxis": {
            "gridcolor": "white",
            "linecolor": "white",
            "ticks": ""
           },
           "bgcolor": "#E5ECF6",
           "caxis": {
            "gridcolor": "white",
            "linecolor": "white",
            "ticks": ""
           }
          },
          "title": {
           "x": 0.05
          },
          "xaxis": {
           "automargin": true,
           "gridcolor": "white",
           "linecolor": "white",
           "ticks": "",
           "title": {
            "standoff": 15
           },
           "zerolinecolor": "white",
           "zerolinewidth": 2
          },
          "yaxis": {
           "automargin": true,
           "gridcolor": "white",
           "linecolor": "white",
           "ticks": "",
           "title": {
            "standoff": 15
           },
           "zerolinecolor": "white",
           "zerolinewidth": 2
          }
         }
        },
        "xaxis": {
         "anchor": "y",
         "domain": [
          0,
          1
         ],
         "title": {
          "text": "InputSize"
         }
        },
        "yaxis": {
         "anchor": "x",
         "domain": [
          0,
          1
         ],
         "title": {
          "text": "Work"
         }
        }
       }
      }
     },
     "metadata": {},
     "output_type": "display_data"
    }
   ],
   "source": [
    "fig = px.line(data_frame= result, x = \"InputSize\", y = \"Work\", color= \"Model_Type\")\n",
    "fig.show()"
   ]
  },
  {
   "cell_type": "code",
   "execution_count": 31,
   "metadata": {},
   "outputs": [
    {
     "data": {
      "application/vnd.plotly.v1+json": {
       "config": {
        "plotlyServerURL": "https://plot.ly"
       },
       "data": [
        {
         "hovertemplate": "Model_Type=Crude<br>InputSize=%{x}<br>ModelSize=%{y}<extra></extra>",
         "legendgroup": "Crude",
         "line": {
          "color": "#636efa",
          "dash": "solid"
         },
         "mode": "lines",
         "name": "Crude",
         "orientation": "v",
         "showlegend": true,
         "type": "scatter",
         "x": [
          20,
          30,
          50,
          100
         ],
         "xaxis": "x",
         "y": [
          14888,
          83006,
          693063,
          11772434
         ],
         "yaxis": "y"
        },
        {
         "hovertemplate": "Model_Type=Simple.E<br>InputSize=%{x}<br>ModelSize=%{y}<extra></extra>",
         "legendgroup": "Simple.E",
         "line": {
          "color": "#EF553B",
          "dash": "solid"
         },
         "mode": "lines",
         "name": "Simple.E",
         "orientation": "v",
         "showlegend": true,
         "type": "scatter",
         "x": [
          20,
          30,
          50,
          100
         ],
         "xaxis": "x",
         "y": [
          14786,
          82741,
          692276,
          11768926
         ],
         "yaxis": "y"
        },
        {
         "hovertemplate": "Model_Type=Quartet<br>InputSize=%{x}<br>ModelSize=%{y}<extra></extra>",
         "legendgroup": "Quartet",
         "line": {
          "color": "#00cc96",
          "dash": "solid"
         },
         "mode": "lines",
         "name": "Quartet",
         "orientation": "v",
         "showlegend": true,
         "type": "scatter",
         "x": [
          20,
          30,
          50,
          100
         ],
         "xaxis": "x",
         "y": [
          17949,
          89997,
          712714,
          11851735
         ],
         "yaxis": "y"
        },
        {
         "hovertemplate": "Model_Type=Crude_Cross<br>InputSize=%{x}<br>ModelSize=%{y}<extra></extra>",
         "legendgroup": "Crude_Cross",
         "line": {
          "color": "#ab63fa",
          "dash": "solid"
         },
         "mode": "lines",
         "name": "Crude_Cross",
         "orientation": "v",
         "showlegend": true,
         "type": "scatter",
         "x": [
          20,
          30,
          50,
          100
         ],
         "xaxis": "x",
         "y": [
          14888,
          83006,
          693063,
          11772434
         ],
         "yaxis": "y"
        },
        {
         "hovertemplate": "Model_Type=Simple.E_Cross<br>InputSize=%{x}<br>ModelSize=%{y}<extra></extra>",
         "legendgroup": "Simple.E_Cross",
         "line": {
          "color": "#FFA15A",
          "dash": "solid"
         },
         "mode": "lines",
         "name": "Simple.E_Cross",
         "orientation": "v",
         "showlegend": true,
         "type": "scatter",
         "x": [
          20,
          30,
          50,
          100
         ],
         "xaxis": "x",
         "y": [
          14786,
          82741,
          692276,
          11768926
         ],
         "yaxis": "y"
        },
        {
         "hovertemplate": "Model_Type=Quartet_Cross<br>InputSize=%{x}<br>ModelSize=%{y}<extra></extra>",
         "legendgroup": "Quartet_Cross",
         "line": {
          "color": "#19d3f3",
          "dash": "solid"
         },
         "mode": "lines",
         "name": "Quartet_Cross",
         "orientation": "v",
         "showlegend": true,
         "type": "scatter",
         "x": [
          20,
          30,
          50,
          100
         ],
         "xaxis": "x",
         "y": [
          17949,
          89997,
          712714,
          11851735
         ],
         "yaxis": "y"
        },
        {
         "hovertemplate": "Model_Type=Full<br>InputSize=%{x}<br>ModelSize=%{y}<extra></extra>",
         "legendgroup": "Full",
         "line": {
          "color": "#FF6692",
          "dash": "solid"
         },
         "mode": "lines",
         "name": "Full",
         "orientation": "v",
         "showlegend": true,
         "type": "scatter",
         "x": [
          20,
          30,
          50,
          100
         ],
         "xaxis": "x",
         "y": [
          17847,
          89732,
          711927,
          11848227
         ],
         "yaxis": "y"
        }
       ],
       "layout": {
        "legend": {
         "title": {
          "text": "Model_Type"
         },
         "tracegroupgap": 0
        },
        "margin": {
         "t": 60
        },
        "template": {
         "data": {
          "bar": [
           {
            "error_x": {
             "color": "#2a3f5f"
            },
            "error_y": {
             "color": "#2a3f5f"
            },
            "marker": {
             "line": {
              "color": "#E5ECF6",
              "width": 0.5
             }
            },
            "type": "bar"
           }
          ],
          "barpolar": [
           {
            "marker": {
             "line": {
              "color": "#E5ECF6",
              "width": 0.5
             }
            },
            "type": "barpolar"
           }
          ],
          "carpet": [
           {
            "aaxis": {
             "endlinecolor": "#2a3f5f",
             "gridcolor": "white",
             "linecolor": "white",
             "minorgridcolor": "white",
             "startlinecolor": "#2a3f5f"
            },
            "baxis": {
             "endlinecolor": "#2a3f5f",
             "gridcolor": "white",
             "linecolor": "white",
             "minorgridcolor": "white",
             "startlinecolor": "#2a3f5f"
            },
            "type": "carpet"
           }
          ],
          "choropleth": [
           {
            "colorbar": {
             "outlinewidth": 0,
             "ticks": ""
            },
            "type": "choropleth"
           }
          ],
          "contour": [
           {
            "colorbar": {
             "outlinewidth": 0,
             "ticks": ""
            },
            "colorscale": [
             [
              0,
              "#0d0887"
             ],
             [
              0.1111111111111111,
              "#46039f"
             ],
             [
              0.2222222222222222,
              "#7201a8"
             ],
             [
              0.3333333333333333,
              "#9c179e"
             ],
             [
              0.4444444444444444,
              "#bd3786"
             ],
             [
              0.5555555555555556,
              "#d8576b"
             ],
             [
              0.6666666666666666,
              "#ed7953"
             ],
             [
              0.7777777777777778,
              "#fb9f3a"
             ],
             [
              0.8888888888888888,
              "#fdca26"
             ],
             [
              1,
              "#f0f921"
             ]
            ],
            "type": "contour"
           }
          ],
          "contourcarpet": [
           {
            "colorbar": {
             "outlinewidth": 0,
             "ticks": ""
            },
            "type": "contourcarpet"
           }
          ],
          "heatmap": [
           {
            "colorbar": {
             "outlinewidth": 0,
             "ticks": ""
            },
            "colorscale": [
             [
              0,
              "#0d0887"
             ],
             [
              0.1111111111111111,
              "#46039f"
             ],
             [
              0.2222222222222222,
              "#7201a8"
             ],
             [
              0.3333333333333333,
              "#9c179e"
             ],
             [
              0.4444444444444444,
              "#bd3786"
             ],
             [
              0.5555555555555556,
              "#d8576b"
             ],
             [
              0.6666666666666666,
              "#ed7953"
             ],
             [
              0.7777777777777778,
              "#fb9f3a"
             ],
             [
              0.8888888888888888,
              "#fdca26"
             ],
             [
              1,
              "#f0f921"
             ]
            ],
            "type": "heatmap"
           }
          ],
          "heatmapgl": [
           {
            "colorbar": {
             "outlinewidth": 0,
             "ticks": ""
            },
            "colorscale": [
             [
              0,
              "#0d0887"
             ],
             [
              0.1111111111111111,
              "#46039f"
             ],
             [
              0.2222222222222222,
              "#7201a8"
             ],
             [
              0.3333333333333333,
              "#9c179e"
             ],
             [
              0.4444444444444444,
              "#bd3786"
             ],
             [
              0.5555555555555556,
              "#d8576b"
             ],
             [
              0.6666666666666666,
              "#ed7953"
             ],
             [
              0.7777777777777778,
              "#fb9f3a"
             ],
             [
              0.8888888888888888,
              "#fdca26"
             ],
             [
              1,
              "#f0f921"
             ]
            ],
            "type": "heatmapgl"
           }
          ],
          "histogram": [
           {
            "marker": {
             "colorbar": {
              "outlinewidth": 0,
              "ticks": ""
             }
            },
            "type": "histogram"
           }
          ],
          "histogram2d": [
           {
            "colorbar": {
             "outlinewidth": 0,
             "ticks": ""
            },
            "colorscale": [
             [
              0,
              "#0d0887"
             ],
             [
              0.1111111111111111,
              "#46039f"
             ],
             [
              0.2222222222222222,
              "#7201a8"
             ],
             [
              0.3333333333333333,
              "#9c179e"
             ],
             [
              0.4444444444444444,
              "#bd3786"
             ],
             [
              0.5555555555555556,
              "#d8576b"
             ],
             [
              0.6666666666666666,
              "#ed7953"
             ],
             [
              0.7777777777777778,
              "#fb9f3a"
             ],
             [
              0.8888888888888888,
              "#fdca26"
             ],
             [
              1,
              "#f0f921"
             ]
            ],
            "type": "histogram2d"
           }
          ],
          "histogram2dcontour": [
           {
            "colorbar": {
             "outlinewidth": 0,
             "ticks": ""
            },
            "colorscale": [
             [
              0,
              "#0d0887"
             ],
             [
              0.1111111111111111,
              "#46039f"
             ],
             [
              0.2222222222222222,
              "#7201a8"
             ],
             [
              0.3333333333333333,
              "#9c179e"
             ],
             [
              0.4444444444444444,
              "#bd3786"
             ],
             [
              0.5555555555555556,
              "#d8576b"
             ],
             [
              0.6666666666666666,
              "#ed7953"
             ],
             [
              0.7777777777777778,
              "#fb9f3a"
             ],
             [
              0.8888888888888888,
              "#fdca26"
             ],
             [
              1,
              "#f0f921"
             ]
            ],
            "type": "histogram2dcontour"
           }
          ],
          "mesh3d": [
           {
            "colorbar": {
             "outlinewidth": 0,
             "ticks": ""
            },
            "type": "mesh3d"
           }
          ],
          "parcoords": [
           {
            "line": {
             "colorbar": {
              "outlinewidth": 0,
              "ticks": ""
             }
            },
            "type": "parcoords"
           }
          ],
          "pie": [
           {
            "automargin": true,
            "type": "pie"
           }
          ],
          "scatter": [
           {
            "marker": {
             "colorbar": {
              "outlinewidth": 0,
              "ticks": ""
             }
            },
            "type": "scatter"
           }
          ],
          "scatter3d": [
           {
            "line": {
             "colorbar": {
              "outlinewidth": 0,
              "ticks": ""
             }
            },
            "marker": {
             "colorbar": {
              "outlinewidth": 0,
              "ticks": ""
             }
            },
            "type": "scatter3d"
           }
          ],
          "scattercarpet": [
           {
            "marker": {
             "colorbar": {
              "outlinewidth": 0,
              "ticks": ""
             }
            },
            "type": "scattercarpet"
           }
          ],
          "scattergeo": [
           {
            "marker": {
             "colorbar": {
              "outlinewidth": 0,
              "ticks": ""
             }
            },
            "type": "scattergeo"
           }
          ],
          "scattergl": [
           {
            "marker": {
             "colorbar": {
              "outlinewidth": 0,
              "ticks": ""
             }
            },
            "type": "scattergl"
           }
          ],
          "scattermapbox": [
           {
            "marker": {
             "colorbar": {
              "outlinewidth": 0,
              "ticks": ""
             }
            },
            "type": "scattermapbox"
           }
          ],
          "scatterpolar": [
           {
            "marker": {
             "colorbar": {
              "outlinewidth": 0,
              "ticks": ""
             }
            },
            "type": "scatterpolar"
           }
          ],
          "scatterpolargl": [
           {
            "marker": {
             "colorbar": {
              "outlinewidth": 0,
              "ticks": ""
             }
            },
            "type": "scatterpolargl"
           }
          ],
          "scatterternary": [
           {
            "marker": {
             "colorbar": {
              "outlinewidth": 0,
              "ticks": ""
             }
            },
            "type": "scatterternary"
           }
          ],
          "surface": [
           {
            "colorbar": {
             "outlinewidth": 0,
             "ticks": ""
            },
            "colorscale": [
             [
              0,
              "#0d0887"
             ],
             [
              0.1111111111111111,
              "#46039f"
             ],
             [
              0.2222222222222222,
              "#7201a8"
             ],
             [
              0.3333333333333333,
              "#9c179e"
             ],
             [
              0.4444444444444444,
              "#bd3786"
             ],
             [
              0.5555555555555556,
              "#d8576b"
             ],
             [
              0.6666666666666666,
              "#ed7953"
             ],
             [
              0.7777777777777778,
              "#fb9f3a"
             ],
             [
              0.8888888888888888,
              "#fdca26"
             ],
             [
              1,
              "#f0f921"
             ]
            ],
            "type": "surface"
           }
          ],
          "table": [
           {
            "cells": {
             "fill": {
              "color": "#EBF0F8"
             },
             "line": {
              "color": "white"
             }
            },
            "header": {
             "fill": {
              "color": "#C8D4E3"
             },
             "line": {
              "color": "white"
             }
            },
            "type": "table"
           }
          ]
         },
         "layout": {
          "annotationdefaults": {
           "arrowcolor": "#2a3f5f",
           "arrowhead": 0,
           "arrowwidth": 1
          },
          "coloraxis": {
           "colorbar": {
            "outlinewidth": 0,
            "ticks": ""
           }
          },
          "colorscale": {
           "diverging": [
            [
             0,
             "#8e0152"
            ],
            [
             0.1,
             "#c51b7d"
            ],
            [
             0.2,
             "#de77ae"
            ],
            [
             0.3,
             "#f1b6da"
            ],
            [
             0.4,
             "#fde0ef"
            ],
            [
             0.5,
             "#f7f7f7"
            ],
            [
             0.6,
             "#e6f5d0"
            ],
            [
             0.7,
             "#b8e186"
            ],
            [
             0.8,
             "#7fbc41"
            ],
            [
             0.9,
             "#4d9221"
            ],
            [
             1,
             "#276419"
            ]
           ],
           "sequential": [
            [
             0,
             "#0d0887"
            ],
            [
             0.1111111111111111,
             "#46039f"
            ],
            [
             0.2222222222222222,
             "#7201a8"
            ],
            [
             0.3333333333333333,
             "#9c179e"
            ],
            [
             0.4444444444444444,
             "#bd3786"
            ],
            [
             0.5555555555555556,
             "#d8576b"
            ],
            [
             0.6666666666666666,
             "#ed7953"
            ],
            [
             0.7777777777777778,
             "#fb9f3a"
            ],
            [
             0.8888888888888888,
             "#fdca26"
            ],
            [
             1,
             "#f0f921"
            ]
           ],
           "sequentialminus": [
            [
             0,
             "#0d0887"
            ],
            [
             0.1111111111111111,
             "#46039f"
            ],
            [
             0.2222222222222222,
             "#7201a8"
            ],
            [
             0.3333333333333333,
             "#9c179e"
            ],
            [
             0.4444444444444444,
             "#bd3786"
            ],
            [
             0.5555555555555556,
             "#d8576b"
            ],
            [
             0.6666666666666666,
             "#ed7953"
            ],
            [
             0.7777777777777778,
             "#fb9f3a"
            ],
            [
             0.8888888888888888,
             "#fdca26"
            ],
            [
             1,
             "#f0f921"
            ]
           ]
          },
          "colorway": [
           "#636efa",
           "#EF553B",
           "#00cc96",
           "#ab63fa",
           "#FFA15A",
           "#19d3f3",
           "#FF6692",
           "#B6E880",
           "#FF97FF",
           "#FECB52"
          ],
          "font": {
           "color": "#2a3f5f"
          },
          "geo": {
           "bgcolor": "white",
           "lakecolor": "white",
           "landcolor": "#E5ECF6",
           "showlakes": true,
           "showland": true,
           "subunitcolor": "white"
          },
          "hoverlabel": {
           "align": "left"
          },
          "hovermode": "closest",
          "mapbox": {
           "style": "light"
          },
          "paper_bgcolor": "white",
          "plot_bgcolor": "#E5ECF6",
          "polar": {
           "angularaxis": {
            "gridcolor": "white",
            "linecolor": "white",
            "ticks": ""
           },
           "bgcolor": "#E5ECF6",
           "radialaxis": {
            "gridcolor": "white",
            "linecolor": "white",
            "ticks": ""
           }
          },
          "scene": {
           "xaxis": {
            "backgroundcolor": "#E5ECF6",
            "gridcolor": "white",
            "gridwidth": 2,
            "linecolor": "white",
            "showbackground": true,
            "ticks": "",
            "zerolinecolor": "white"
           },
           "yaxis": {
            "backgroundcolor": "#E5ECF6",
            "gridcolor": "white",
            "gridwidth": 2,
            "linecolor": "white",
            "showbackground": true,
            "ticks": "",
            "zerolinecolor": "white"
           },
           "zaxis": {
            "backgroundcolor": "#E5ECF6",
            "gridcolor": "white",
            "gridwidth": 2,
            "linecolor": "white",
            "showbackground": true,
            "ticks": "",
            "zerolinecolor": "white"
           }
          },
          "shapedefaults": {
           "line": {
            "color": "#2a3f5f"
           }
          },
          "ternary": {
           "aaxis": {
            "gridcolor": "white",
            "linecolor": "white",
            "ticks": ""
           },
           "baxis": {
            "gridcolor": "white",
            "linecolor": "white",
            "ticks": ""
           },
           "bgcolor": "#E5ECF6",
           "caxis": {
            "gridcolor": "white",
            "linecolor": "white",
            "ticks": ""
           }
          },
          "title": {
           "x": 0.05
          },
          "xaxis": {
           "automargin": true,
           "gridcolor": "white",
           "linecolor": "white",
           "ticks": "",
           "title": {
            "standoff": 15
           },
           "zerolinecolor": "white",
           "zerolinewidth": 2
          },
          "yaxis": {
           "automargin": true,
           "gridcolor": "white",
           "linecolor": "white",
           "ticks": "",
           "title": {
            "standoff": 15
           },
           "zerolinecolor": "white",
           "zerolinewidth": 2
          }
         }
        },
        "xaxis": {
         "anchor": "y",
         "domain": [
          0,
          1
         ],
         "title": {
          "text": "InputSize"
         }
        },
        "yaxis": {
         "anchor": "x",
         "domain": [
          0,
          1
         ],
         "title": {
          "text": "ModelSize"
         }
        }
       }
      }
     },
     "metadata": {},
     "output_type": "display_data"
    }
   ],
   "source": [
    "fig = px.line(data_frame= result, x = \"InputSize\", y = \"ModelSize\", color= \"Model_Type\")\n",
    "fig.show()"
   ]
  },
  {
   "cell_type": "code",
   "execution_count": 36,
   "metadata": {},
   "outputs": [
    {
     "name": "stdout",
     "output_type": "stream",
     "text": [
      "Set parameter TimeLimit to value 300\n",
      "Obj:  8.0\n",
      "Size:  14888\n",
      "Vars:\n",
      "x[0,19] = 1\n",
      "x[1,14] = 1\n",
      "x[3,13] = 1\n",
      "x[4,12] = 1\n",
      "x[5,7] = 1\n",
      "x[9,10] = 1\n",
      "x[15,16] = 1\n",
      "x[17,18] = 1\n"
     ]
    }
   ],
   "source": [
    "crude_model = CrudeModel('CGUCUUCACUACAGCAUCGG', 'crude')\n",
    "crude_model.build_model(0)\n",
    "crude_model.solve_model()\n",
    "print(\"Obj: \", crude_model.model.ObjVal)\n",
    "print(\"Size: \", crude_model.model_size())\n",
    "print(\"Vars:\")\n",
    "for v in crude_model.model.getVars():\n",
    "    if (v.x == 1):\n",
    "        print(\"%s = %g\" % (v.varName, v.x))\n"
   ]
  },
  {
   "cell_type": "code",
   "execution_count": 37,
   "metadata": {},
   "outputs": [
    {
     "name": "stdout",
     "output_type": "stream",
     "text": [
      "Set parameter TimeLimit to value 300\n",
      "Obj:  112.05\n",
      "Size:  17847\n",
      "Vars:\n",
      "x[0,13] = 1\n",
      "x[1,8] = 1\n",
      "x[2,7] = 1\n",
      "x[3,6] = 1\n",
      "x[4,10] = 1\n",
      "x[5,9] = 1\n",
      "x[11,18] = 1\n",
      "x[12,17] = 1\n",
      "x[14,19] = 1\n",
      "Q[1,8] = 1\n",
      "Q[2,7] = 1\n",
      "Q[4,10] = 1\n",
      "Q[11,18] = 1\n",
      "Q[19,14] = 1\n",
      "P[1,8] = 1\n",
      "L[2,7] = 1\n",
      "L[4,10] = 1\n",
      "L[11,18] = 1\n",
      "L[19,14] = 1\n",
      "C[0,13,11,18] = 1\n",
      "C[0,13,12,17] = 1\n",
      "C[1,8,4,10] = 1\n",
      "C[1,8,5,9] = 1\n",
      "C[2,7,4,10] = 1\n",
      "C[2,7,5,9] = 1\n",
      "C[3,6,4,10] = 1\n",
      "C[3,6,5,9] = 1\n",
      "C[11,18,14,19] = 1\n",
      "C[12,17,14,19] = 1\n"
     ]
    }
   ],
   "source": [
    "full_model = FullModel('CGUCUUCACUACAGCAUCGG', 'full')\n",
    "full_model.build_model(10)\n",
    "full_model.solve_model()\n",
    "print(\"Obj: \", full_model.model.ObjVal)\n",
    "print(\"Size: \", full_model.model_size())\n",
    "print(\"Vars:\")\n",
    "for v in full_model.model.getVars():\n",
    "    if (v.x == 1):\n",
    "        print(\"%s = %g\" % (v.varName, v.x))"
   ]
  },
  {
   "cell_type": "code",
   "execution_count": null,
   "metadata": {},
   "outputs": [],
   "source": []
  }
 ],
 "metadata": {
  "interpreter": {
   "hash": "6e02bbc43640bacef4559ec62de406786527dfcbaf646bb2b1b0ef86fcf1e58e"
  },
  "kernelspec": {
   "display_name": "Python 3.8.3 ('base')",
   "language": "python",
   "name": "python3"
  },
  "language_info": {
   "codemirror_mode": {
    "name": "ipython",
    "version": 3
   },
   "file_extension": ".py",
   "mimetype": "text/x-python",
   "name": "python",
   "nbconvert_exporter": "python",
   "pygments_lexer": "ipython3",
   "version": "3.8.3"
  },
  "orig_nbformat": 4
 },
 "nbformat": 4,
 "nbformat_minor": 2
}
